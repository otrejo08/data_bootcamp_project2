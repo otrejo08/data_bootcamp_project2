{
 "cells": [
  {
   "cell_type": "code",
   "execution_count": 2,
   "metadata": {},
   "outputs": [],
   "source": [
    "import plotly \n",
    "plotly.tools.set_credentials_file(username='omar_trejo08', api_key='9TXWQo8VRmY2LbtL8SnL')"
   ]
  },
  {
   "cell_type": "code",
   "execution_count": 3,
   "metadata": {},
   "outputs": [],
   "source": [
    "import plotly.plotly as py\n",
    "import plotly.graph_objs as go\n",
    "import plotly.figure_factory as FF\n",
    "import cufflinks as cf\n",
    "\n",
    "import numpy as np\n",
    "import pandas as pd"
   ]
  },
  {
   "cell_type": "code",
   "execution_count": 4,
   "metadata": {},
   "outputs": [],
   "source": [
    "df = pd.read_csv('beyonce.csv')\n",
    "\n",
    "beyonce_data_table = FF.create_table(df.head())"
   ]
  },
  {
   "cell_type": "code",
   "execution_count": 5,
   "metadata": {},
   "outputs": [
    {
     "data": {
      "text/plain": [
       "Figure({\n",
       "    'data': [{'colorscale': [[0, '#00083e'], [0.5, '#ededee'], [1, '#ffffff']],\n",
       "              'hoverinfo': 'none',\n",
       "              'opacity': 0.75,\n",
       "              'showscale': False,\n",
       "              'type': 'heatmap',\n",
       "              'uid': 'cf49c557-60b7-47fa-9d59-9aceaa160918',\n",
       "              'z': [[0, 0, 0], [0.5, 0.5, 0.5], [1, 1, 1], [0.5, 0.5, 0.5], [1, 1,\n",
       "                    1], [0.5, 0.5, 0.5]]}],\n",
       "    'layout': {'annotations': [{'align': 'left',\n",
       "                                'font': {'color': '#ffffff'},\n",
       "                                'showarrow': False,\n",
       "                                'text': '<b>Title</b>',\n",
       "                                'x': -0.45,\n",
       "                                'xanchor': 'left',\n",
       "                                'xref': 'x',\n",
       "                                'y': 0,\n",
       "                                'yref': 'y'},\n",
       "                               {'align': 'left',\n",
       "                                'font': {'color': '#ffffff'},\n",
       "                                'showarrow': False,\n",
       "                                'text': '<b>Release Date</b>',\n",
       "                                'x': 0.55,\n",
       "                                'xanchor': 'left',\n",
       "                                'xref': 'x',\n",
       "                                'y': 0,\n",
       "                                'yref': 'y'},\n",
       "                               {'align': 'left',\n",
       "                                'font': {'color': '#ffffff'},\n",
       "                                'showarrow': False,\n",
       "                                'text': '<b>US Sales</b>',\n",
       "                                'x': 1.55,\n",
       "                                'xanchor': 'left',\n",
       "                                'xref': 'x',\n",
       "                                'y': 0,\n",
       "                                'yref': 'y'},\n",
       "                               {'align': 'left',\n",
       "                                'font': {'color': '#000000'},\n",
       "                                'showarrow': False,\n",
       "                                'text': 'Dangerously in Love',\n",
       "                                'x': -0.45,\n",
       "                                'xanchor': 'left',\n",
       "                                'xref': 'x',\n",
       "                                'y': 1,\n",
       "                                'yref': 'y'},\n",
       "                               {'align': 'left',\n",
       "                                'font': {'color': '#000000'},\n",
       "                                'showarrow': False,\n",
       "                                'text': '6/23/03',\n",
       "                                'x': 0.55,\n",
       "                                'xanchor': 'left',\n",
       "                                'xref': 'x',\n",
       "                                'y': 1,\n",
       "                                'yref': 'y'},\n",
       "                               {'align': 'left',\n",
       "                                'font': {'color': '#000000'},\n",
       "                                'showarrow': False,\n",
       "                                'text': '5,100,000',\n",
       "                                'x': 1.55,\n",
       "                                'xanchor': 'left',\n",
       "                                'xref': 'x',\n",
       "                                'y': 1,\n",
       "                                'yref': 'y'},\n",
       "                               {'align': 'left',\n",
       "                                'font': {'color': '#000000'},\n",
       "                                'showarrow': False,\n",
       "                                'text': \"B'Day\",\n",
       "                                'x': -0.45,\n",
       "                                'xanchor': 'left',\n",
       "                                'xref': 'x',\n",
       "                                'y': 2,\n",
       "                                'yref': 'y'},\n",
       "                               {'align': 'left',\n",
       "                                'font': {'color': '#000000'},\n",
       "                                'showarrow': False,\n",
       "                                'text': '9/1/06',\n",
       "                                'x': 0.55,\n",
       "                                'xanchor': 'left',\n",
       "                                'xref': 'x',\n",
       "                                'y': 2,\n",
       "                                'yref': 'y'},\n",
       "                               {'align': 'left',\n",
       "                                'font': {'color': '#000000'},\n",
       "                                'showarrow': False,\n",
       "                                'text': '3,610,000',\n",
       "                                'x': 1.55,\n",
       "                                'xanchor': 'left',\n",
       "                                'xref': 'x',\n",
       "                                'y': 2,\n",
       "                                'yref': 'y'},\n",
       "                               {'align': 'left',\n",
       "                                'font': {'color': '#000000'},\n",
       "                                'showarrow': False,\n",
       "                                'text': 'I Am... Sasha Fierce',\n",
       "                                'x': -0.45,\n",
       "                                'xanchor': 'left',\n",
       "                                'xref': 'x',\n",
       "                                'y': 3,\n",
       "                                'yref': 'y'},\n",
       "                               {'align': 'left',\n",
       "                                'font': {'color': '#000000'},\n",
       "                                'showarrow': False,\n",
       "                                'text': '11/14/08',\n",
       "                                'x': 0.55,\n",
       "                                'xanchor': 'left',\n",
       "                                'xref': 'x',\n",
       "                                'y': 3,\n",
       "                                'yref': 'y'},\n",
       "                               {'align': 'left',\n",
       "                                'font': {'color': '#000000'},\n",
       "                                'showarrow': False,\n",
       "                                'text': '3,380,000',\n",
       "                                'x': 1.55,\n",
       "                                'xanchor': 'left',\n",
       "                                'xref': 'x',\n",
       "                                'y': 3,\n",
       "                                'yref': 'y'},\n",
       "                               {'align': 'left',\n",
       "                                'font': {'color': '#000000'},\n",
       "                                'showarrow': False,\n",
       "                                'text': '4',\n",
       "                                'x': -0.45,\n",
       "                                'xanchor': 'left',\n",
       "                                'xref': 'x',\n",
       "                                'y': 4,\n",
       "                                'yref': 'y'},\n",
       "                               {'align': 'left',\n",
       "                                'font': {'color': '#000000'},\n",
       "                                'showarrow': False,\n",
       "                                'text': '6/24/11',\n",
       "                                'x': 0.55,\n",
       "                                'xanchor': 'left',\n",
       "                                'xref': 'x',\n",
       "                                'y': 4,\n",
       "                                'yref': 'y'},\n",
       "                               {'align': 'left',\n",
       "                                'font': {'color': '#000000'},\n",
       "                                'showarrow': False,\n",
       "                                'text': '1,500,000',\n",
       "                                'x': 1.55,\n",
       "                                'xanchor': 'left',\n",
       "                                'xref': 'x',\n",
       "                                'y': 4,\n",
       "                                'yref': 'y'},\n",
       "                               {'align': 'left',\n",
       "                                'font': {'color': '#000000'},\n",
       "                                'showarrow': False,\n",
       "                                'text': 'Beyonc̩',\n",
       "                                'x': -0.45,\n",
       "                                'xanchor': 'left',\n",
       "                                'xref': 'x',\n",
       "                                'y': 5,\n",
       "                                'yref': 'y'},\n",
       "                               {'align': 'left',\n",
       "                                'font': {'color': '#000000'},\n",
       "                                'showarrow': False,\n",
       "                                'text': '12/13/13',\n",
       "                                'x': 0.55,\n",
       "                                'xanchor': 'left',\n",
       "                                'xref': 'x',\n",
       "                                'y': 5,\n",
       "                                'yref': 'y'},\n",
       "                               {'align': 'left',\n",
       "                                'font': {'color': '#000000'},\n",
       "                                'showarrow': False,\n",
       "                                'text': '2,512,000',\n",
       "                                'x': 1.55,\n",
       "                                'xanchor': 'left',\n",
       "                                'xref': 'x',\n",
       "                                'y': 5,\n",
       "                                'yref': 'y'}],\n",
       "               'height': 230,\n",
       "               'margin': {'b': 0, 'l': 0, 'r': 0, 't': 0},\n",
       "               'xaxis': {'dtick': 1,\n",
       "                         'gridwidth': 2,\n",
       "                         'showticklabels': False,\n",
       "                         'tick0': -0.5,\n",
       "                         'ticks': '',\n",
       "                         'zeroline': False},\n",
       "               'yaxis': {'autorange': 'reversed',\n",
       "                         'dtick': 1,\n",
       "                         'gridwidth': 2,\n",
       "                         'showticklabels': False,\n",
       "                         'tick0': 0.5,\n",
       "                         'ticks': '',\n",
       "                         'zeroline': False}}\n",
       "})"
      ]
     },
     "execution_count": 5,
     "metadata": {},
     "output_type": "execute_result"
    }
   ],
   "source": [
    "beyonce_data_table"
   ]
  },
  {
   "cell_type": "code",
   "execution_count": 6,
   "metadata": {},
   "outputs": [
    {
     "name": "stderr",
     "output_type": "stream",
     "text": [
      "/anaconda3/lib/python3.6/site-packages/IPython/core/display.py:689: UserWarning:\n",
      "\n",
      "Consider using IPython.display.IFrame instead\n",
      "\n"
     ]
    },
    {
     "data": {
      "text/html": [
       "<iframe id=\"igraph\" scrolling=\"no\" style=\"border:none;\" seamless=\"seamless\" src=\"https://plot.ly/~omar_trejo08/2.embed\" height=\"230px\" width=\"100%\"></iframe>"
      ],
      "text/plain": [
       "<plotly.tools.PlotlyDisplay object>"
      ]
     },
     "execution_count": 6,
     "metadata": {},
     "output_type": "execute_result"
    }
   ],
   "source": [
    "py.iplot(beyonce_data_table, filename='beyonce-data-table')"
   ]
  },
  {
   "cell_type": "code",
   "execution_count": 14,
   "metadata": {},
   "outputs": [
    {
     "data": {
      "text/html": [
       "<iframe id=\"igraph\" scrolling=\"no\" style=\"border:none;\" seamless=\"seamless\" src=\"https://plot.ly/~omar_trejo08/5.embed\" height=\"525px\" width=\"100%\"></iframe>"
      ],
      "text/plain": [
       "<plotly.tools.PlotlyDisplay object>"
      ]
     },
     "execution_count": 14,
     "metadata": {},
     "output_type": "execute_result"
    }
   ],
   "source": [
    "cf.set_config_file(offline=False, world_readable=True, theme='ggplot')\n",
    "\n",
    "series = df['US Sales']\n",
    "\n",
    "series.iplot(kind='bar', yTitle='US Sales', xTitle=\"Title\", title='Beyonce Album Sales')"
   ]
  },
  {
   "cell_type": "code",
   "execution_count": null,
   "metadata": {},
   "outputs": [],
   "source": []
  },
  {
   "cell_type": "code",
   "execution_count": null,
   "metadata": {},
   "outputs": [],
   "source": []
  }
 ],
 "metadata": {
  "kernelspec": {
   "display_name": "Python 3",
   "language": "python",
   "name": "python3"
  },
  "language_info": {
   "codemirror_mode": {
    "name": "ipython",
    "version": 3
   },
   "file_extension": ".py",
   "mimetype": "text/x-python",
   "name": "python",
   "nbconvert_exporter": "python",
   "pygments_lexer": "ipython3",
   "version": "3.6.8"
  }
 },
 "nbformat": 4,
 "nbformat_minor": 2
}
