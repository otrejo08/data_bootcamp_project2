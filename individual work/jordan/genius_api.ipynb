{
 "cells": [
  {
   "cell_type": "code",
   "execution_count": 1,
   "metadata": {},
   "outputs": [],
   "source": [
    "import pandas as pd\n",
    "import numpy as np\n",
    "import requests\n",
    "from pprint import pprint\n",
    "from bs4 import BeautifulSoup\n",
    "import datetime as dt\n",
    "\n",
    "import re, string\n",
    "import nltk\n",
    "import contractions\n",
    "from nltk.corpus import stopwords\n",
    "\n",
    "from api_keys import api_key"
   ]
  },
  {
   "cell_type": "code",
   "execution_count": 2,
   "metadata": {},
   "outputs": [],
   "source": [
    "def request_song_info(artist_id, page_number):\n",
    "    base_url = f'https://api.genius.com'\n",
    "    headers = {f'Authorization': f'Bearer {api_key}'}\n",
    "    search_url = f'{base_url}/artists/{artist_id}/songs?per_page=40&page={page_number}&sort=popularity'\n",
    "    response = requests.get(search_url, headers=headers)\n",
    "\n",
    "    return response"
   ]
  },
  {
   "cell_type": "code",
   "execution_count": 3,
   "metadata": {},
   "outputs": [],
   "source": [
    "jay_dict = {}\n",
    "beyonce_dict = {}\n",
    "destiny_dict = {}\n",
    "artist_dict = {2 : jay_dict, 498 : beyonce_dict, 2831 : destiny_dict}\n",
    "        \n",
    "for artist_id, artist_dict in artist_dict.items():      \n",
    "\n",
    "    for page in range (1, 20):\n",
    "        response = request_song_info(artist_id, page)\n",
    "        json = response.json()\n",
    "        remote_song_info = None\n",
    "\n",
    "        for song in json['response']['songs']:\n",
    "            if str(artist_id) in str(song['primary_artist']['id']):\n",
    "                remote_song_info = song\n",
    "\n",
    "                if remote_song_info:\n",
    "                    song_url = remote_song_info['url']\n",
    "\n",
    "                if len(artist_dict) == 100:\n",
    "                    break\n",
    "\n",
    "                else:\n",
    "                    artist_dict.update({song['title'].lower() : song_url})"
   ]
  },
  {
   "cell_type": "code",
   "execution_count": 4,
   "metadata": {},
   "outputs": [
    {
     "name": "stdout",
     "output_type": "stream",
     "text": [
      "the jay_z_dict contains 100 songs.\n",
      "the beyonce_dict contains 100 songs.\n",
      "the destiny_dict contains 100 songs.\n"
     ]
    }
   ],
   "source": [
    "print(f'the jay_z_dict contains {len(jay_dict)} songs.')\n",
    "print(f'the beyonce_dict contains {len(beyonce_dict)} songs.')\n",
    "print(f'the destiny_dict contains {len(destiny_dict)} songs.')"
   ]
  },
  {
   "cell_type": "code",
   "execution_count": 5,
   "metadata": {},
   "outputs": [],
   "source": [
    "def scrap_song_url(song_url, date_index):\n",
    "    page = requests.get(song_url)\n",
    "    html = BeautifulSoup(page.text, 'html.parser')\n",
    "    release_date = dt.datetime.strptime(html.find_all('span', {'class': 'metadata_unit-info metadata_unit-info--text_only'})[date_index].get_text(), '%B %d, %Y').strftime('%Y%m%d')\n",
    "    lyrics = html.find('div', class_='lyrics').get_text()\n",
    "\n",
    "    return release_date, lyrics"
   ]
  },
  {
   "cell_type": "code",
   "execution_count": 6,
   "metadata": {},
   "outputs": [
    {
     "name": "stdout",
     "output_type": "stream",
     "text": [
      "20021010\n"
     ]
    }
   ],
   "source": [
    "relationship_start = scrap_song_url(jay_dict[\"'03 bonnie & clyde\"], 1)[0]\n",
    "print(int(relationship_start))"
   ]
  },
  {
   "cell_type": "code",
   "execution_count": 7,
   "metadata": {},
   "outputs": [],
   "source": [
    "pre_jay_dict = {}\n",
    "post_jay_dict = {}\n",
    "\n",
    "for song, song_url in jay_dict.items():\n",
    "    try:\n",
    "        if int(scrap_song_url(song_url, 1)[0]) >= int(relationship_start):\n",
    "            if len(post_jay_dict) == 7:\n",
    "                continue\n",
    "            else:\n",
    "                post_jay_dict.update({song : [scrap_song_url(song_url, 1)[0], song_url, scrap_song_url(song_url, 1)[1]]})\n",
    "        else:\n",
    "            if len(pre_jay_dict) == 7:\n",
    "                continue\n",
    "            else:\n",
    "                pre_jay_dict.update({song : [scrap_song_url(song_url, 1)[0], song_url, scrap_song_url(song_url, 1)[1]]})\n",
    "\n",
    "    except:\n",
    "        try:\n",
    "            if int(scrap_song_url(song_url, 0)[0]) >= int(relationship_start):\n",
    "                if len(post_jay_dict) == 7:\n",
    "                    continue\n",
    "                else:\n",
    "                    post_jay_dict.update({song : [scrap_song_url(song_url, 0)[0], song_url, scrap_song_url(song_url, 0)[1]]})\n",
    "            else:\n",
    "                if len(pre_jay_dict) == 7:\n",
    "                    continue\n",
    "                else:\n",
    "                    pre_jay_dict.update({song : [scrap_song_url(song_url, 0)[0], song_url, scrap_song_url(song_url, 0)[1]]})                \n",
    "                \n",
    "        except:\n",
    "            print(f'FAILED on {song}')"
   ]
  },
  {
   "cell_type": "code",
   "execution_count": 8,
   "metadata": {},
   "outputs": [
    {
     "name": "stdout",
     "output_type": "stream",
     "text": [
      "7\n",
      "7\n"
     ]
    }
   ],
   "source": [
    "print(len(pre_jay_dict))\n",
    "print(len(post_jay_dict))"
   ]
  },
  {
   "cell_type": "code",
   "execution_count": 9,
   "metadata": {},
   "outputs": [
    {
     "name": "stdout",
     "output_type": "stream",
     "text": [
      "FAILED on bow down\n",
      "FAILED on beyoncé [tracklist]\n",
      "FAILED on hello\n",
      "FAILED on roc\n",
      "FAILED on wake up\n",
      "FAILED on denial (poem)\n",
      "FAILED on flaws and all\n"
     ]
    }
   ],
   "source": [
    "pre_beyonce_dict = {}\n",
    "post_beyonce_dict = {}\n",
    "\n",
    "for song, song_url in beyonce_dict.items():\n",
    "    try:\n",
    "        if int(scrap_song_url(song_url, 1)[0]) >= int(relationship_start):\n",
    "            if len(post_beyonce_dict) == 7:\n",
    "                continue\n",
    "            else:\n",
    "                post_beyonce_dict.update({song : [scrap_song_url(song_url, 1)[0],  song_url, scrap_song_url(song_url, 1)[1]]})\n",
    "        else:\n",
    "            if len(pre_beyonce_dict) == 7:\n",
    "                continue\n",
    "            else:\n",
    "                pre_beyonce_dict.update({song : [scrap_song_url(song_url, 1)[0], song_url, scrap_song_url(song_url, 1)[1]]})\n",
    "\n",
    "    except:\n",
    "        try:\n",
    "            if int(scrap_song_url(song_url, 0)[0]) >= int(relationship_start):\n",
    "                if len(post_beyonce_dict) == 7:\n",
    "                    continue\n",
    "                else:\n",
    "                    post_beyonce_dict.update({song : [scrap_song_url(song_url, 0)[0], song_url, scrap_song_url(song_url, 0)[1]]})\n",
    "            else:\n",
    "                if len(pre_beyonce_dict) == 7:\n",
    "                    continue\n",
    "                else:\n",
    "                    pre_beyonce_dict.update({song : [scrap_song_url(song_url, 0)[0], song_url, scrap_song_url(song_url, 0)[1]]})                \n",
    "                \n",
    "        except:\n",
    "            print(f'FAILED on {song}')"
   ]
  },
  {
   "cell_type": "code",
   "execution_count": 10,
   "metadata": {},
   "outputs": [
    {
     "name": "stdout",
     "output_type": "stream",
     "text": [
      "0\n",
      "7\n"
     ]
    }
   ],
   "source": [
    "print(len(pre_beyonce_dict))\n",
    "print(len(post_beyonce_dict))"
   ]
  },
  {
   "cell_type": "code",
   "execution_count": 11,
   "metadata": {},
   "outputs": [
    {
     "name": "stdout",
     "output_type": "stream",
     "text": [
      "FAILED on opera of the bells\n",
      "FAILED on what's it gonna be\n",
      "FAILED on i can't go for that\n",
      "FAILED on why you actin'\n",
      "FAILED on my man\n",
      "FAILED on silent night\n",
      "FAILED on jumpin', jumpin' (remix extended version)\n",
      "FAILED on got's my own\n",
      "FAILED on love me (not)\n",
      "FAILED on proud family\n",
      "FAILED on dot\n",
      "FAILED on this love\n",
      "FAILED on a \"dc\" christmas medley\n",
      "FAILED on 2 step\n",
      "FAILED on this christmas\n",
      "FAILED on winter paradise\n",
      "FAILED on hold my beer\n"
     ]
    }
   ],
   "source": [
    "pre_destiny_dict = {}\n",
    "\n",
    "for song, song_url in destiny_dict.items():\n",
    "    try:\n",
    "        if int(scrap_song_url(song_url, 1)[0]) < int(relationship_start):\n",
    "            if len(pre_destiny_dict) == 7:\n",
    "                continue\n",
    "            else:\n",
    "                pre_destiny_dict.update({song : [scrap_song_url(song_url, 1)[0], song_url, scrap_song_url(song_url, 1)[1]]})\n",
    "    except:\n",
    "        try:\n",
    "            if int(scrap_song_url(song_url, 0)[0]) < int(relationship_start):\n",
    "                if len(pre_destiny_dict) == 7:\n",
    "                    continue\n",
    "                else:\n",
    "                    pre_destiny_dict.update({song : [scrap_song_url(song_url, 0)[0], song_url, scrap_song_url(song_url, 0)[1]]})\n",
    "        except:\n",
    "            print(f'FAILED on {song}')"
   ]
  },
  {
   "cell_type": "code",
   "execution_count": 12,
   "metadata": {},
   "outputs": [
    {
     "name": "stdout",
     "output_type": "stream",
     "text": [
      "7\n"
     ]
    }
   ],
   "source": [
    "print(len(pre_destiny_dict))"
   ]
  },
  {
   "cell_type": "code",
   "execution_count": 61,
   "metadata": {},
   "outputs": [],
   "source": [
    "pre_jay_df = pd.DataFrame.from_dict(pre_jay_dict, orient = 'index', columns = ['release_date', 'song_url', 'lyrics', ])\n",
    "post_jay_df = pd.DataFrame.from_dict(post_jay_dict, orient = 'index', columns = ['release_date', 'song_url', 'lyrics'])\n",
    "pre_beyonce_df = pd.DataFrame.from_dict(pre_beyonce_dict, orient = 'index', columns = ['release_date', 'song_url', 'lyrics'])\n",
    "post_beyonce_df = pd.DataFrame.from_dict(post_beyonce_dict, orient = 'index', columns = ['release_date', 'song_url', 'lyrics'])\n",
    "pre_destiny_df = pd.DataFrame.from_dict(pre_destiny_dict, orient = 'index', columns = ['release_date', 'song_url', 'lyrics'])"
   ]
  },
  {
   "cell_type": "code",
   "execution_count": 62,
   "metadata": {},
   "outputs": [],
   "source": [
    "stop = stopwords.words('english')\n",
    "\n",
    "def clean_text(artist_df):\n",
    "    artist_df = artist_df.apply(lambda x: x.replace('\\n', ' '))\n",
    "    artist_df = artist_df.apply(lambda x: re.sub('\\[[^]]*\\]', '', x))\n",
    "    artist_df = artist_df.apply(lambda x: x.lower())\n",
    "    artist_df = artist_df.apply(lambda x: contractions.fix(x))\n",
    "    artist_df = artist_df.apply(lambda x: re.sub(r'[^\\w\\s]','', x))\n",
    "    artist_df = artist_df.apply(lambda x: [item for item in x.split() if item not in stop])\n",
    "    return artist_df"
   ]
  },
  {
   "cell_type": "code",
   "execution_count": 63,
   "metadata": {},
   "outputs": [],
   "source": [
    "pre_jay_df.lyrics = clean_text(pre_jay_df.lyrics)\n",
    "post_jay_df.lyrics = clean_text(post_jay_df.lyrics)\n",
    "pre_beyonce_df.lyrics = clean_text(pre_beyonce_df.lyrics)\n",
    "post_beyonce_df.lyrics = clean_text(post_beyonce_df.lyrics)\n",
    "pre_destiny_df.lyrics = clean_text(pre_destiny_df.lyrics)"
   ]
  },
  {
   "cell_type": "code",
   "execution_count": 64,
   "metadata": {},
   "outputs": [],
   "source": [
    "pre_beyonce_df = pd.concat([pre_beyonce_df, pre_destiny_df])"
   ]
  },
  {
   "cell_type": "code",
   "execution_count": 65,
   "metadata": {},
   "outputs": [],
   "source": [
    "pre_jay_df['unique_words'] = pre_jay_df.lyrics.apply(lambda x: len(set(x)))\n",
    "pre_jay_df['word_count'] = pre_jay_df.lyrics.apply(lambda x: len(x))\n",
    "pre_jay_df['percent_unique'] = pre_jay_df.unique_words / pre_jay_df.word_count\n",
    "\n",
    "post_jay_df['unique_words'] = post_jay_df.lyrics.apply(lambda x: len(set(x)))\n",
    "post_jay_df['word_count'] = post_jay_df.lyrics.apply(lambda x: len(x))\n",
    "post_jay_df['percent_unique'] = post_jay_df.unique_words / post_jay_df.word_count\n",
    "\n",
    "pre_beyonce_df['unique_words'] = pre_beyonce_df.lyrics.apply(lambda x: len(set(x)))\n",
    "pre_beyonce_df['word_count'] = pre_beyonce_df.lyrics.apply(lambda x: len(x))\n",
    "pre_beyonce_df['percent_unique'] = pre_beyonce_df.unique_words / pre_beyonce_df.word_count\n",
    "\n",
    "post_beyonce_df['unique_words'] = post_beyonce_df.lyrics.apply(lambda x: len(set(x)))\n",
    "post_beyonce_df['word_count'] = post_beyonce_df.lyrics.apply(lambda x: len(x))\n",
    "post_beyonce_df['percent_unique'] = post_beyonce_df.unique_words / post_beyonce_df.word_count"
   ]
  },
  {
   "cell_type": "code",
   "execution_count": 28,
   "metadata": {},
   "outputs": [
    {
     "data": {
      "text/plain": [
       "str"
      ]
     },
     "execution_count": 28,
     "metadata": {},
     "output_type": "execute_result"
    }
   ],
   "source": [
    "type(pre_jay_df.iloc[2,0])"
   ]
  },
  {
   "cell_type": "code",
   "execution_count": 83,
   "metadata": {},
   "outputs": [],
   "source": [
    "pre_jay_df['years'] = pd.to_datetime(pre_jay_df['release_date'], format='%Y%m%d') - pd.to_datetime(relationship_start, format= '%Y%m%d')\n",
    "pre_jay_df['years'] = pre_jay_df['years'].dt.days / 365\n",
    "\n",
    "post_jay_df['years'] = pd.to_datetime(post_jay_df['release_date'], format='%Y%m%d') - pd.to_datetime(relationship_start, format= '%Y%m%d')\n",
    "post_jay_df['years'] = post_jay_df['years'].dt.days / 365\n",
    "\n",
    "pre_beyonce_df['years'] = pd.to_datetime(pre_beyonce_df['release_date'], format='%Y%m%d') - pd.to_datetime(relationship_start, format= '%Y%m%d')\n",
    "pre_beyonce_df['years'] = pre_beyonce_df['years'].dt.days / 365\n",
    "\n",
    "post_beyonce_df['years'] = pd.to_datetime(post_beyonce_df['release_date'], format='%Y%m%d') - pd.to_datetime(relationship_start, format= '%Y%m%d')\n",
    "post_beyonce_df['years'] = post_beyonce_df['years'].dt.days / 365"
   ]
  },
  {
   "cell_type": "code",
   "execution_count": null,
   "metadata": {},
   "outputs": [],
   "source": []
  },
  {
   "cell_type": "code",
   "execution_count": 25,
   "metadata": {},
   "outputs": [],
   "source": [
    "pre_jay_data = {'release_date' : pre_jay_df.release_date.values.tolist(), \n",
    "               'percent_unique' : pre_jay_df.percent_unique.values.tolist(),\n",
    "               'word_count' : pre_jay_df.word_count.values.tolist(),\n",
    "               'song': pre_jay_df.index.tolist(),\n",
    "               'song_url': pre_jay_df.song_url.values.tolist()}"
   ]
  },
  {
   "cell_type": "code",
   "execution_count": 26,
   "metadata": {},
   "outputs": [
    {
     "data": {
      "text/plain": [
       "{'release_date': [19991013,\n",
       "  20010911,\n",
       "  20010911,\n",
       "  20020508,\n",
       "  19991228,\n",
       "  20010911,\n",
       "  19960624],\n",
       " 'percent_unique': [0.4954545454545455,\n",
       "  0.6666666666666666,\n",
       "  0.6166328600405679,\n",
       "  0.4928774928774929,\n",
       "  0.6076555023923444,\n",
       "  0.5073313782991202,\n",
       "  0.5579514824797843],\n",
       " 'word_count': [440, 459, 493, 351, 418, 341, 371],\n",
       " 'song': [0, 1, 2, 3, 4, 5, 6],\n",
       " 'song_url': ['https://genius.com/Dr-dre-still-dre-lyrics',\n",
       "  'https://genius.com/Jay-z-renegade-lyrics',\n",
       "  'https://genius.com/Jay-z-takeover-lyrics',\n",
       "  'https://genius.com/Jay-z-song-cry-lyrics',\n",
       "  'https://genius.com/Jay-z-big-pimpin-lyrics',\n",
       "  'https://genius.com/Jay-z-izzo-hova-lyrics',\n",
       "  'https://genius.com/Jay-z-devils-lyrics']}"
      ]
     },
     "execution_count": 26,
     "metadata": {},
     "output_type": "execute_result"
    }
   ],
   "source": [
    "pre_jay_data"
   ]
  }
 ],
 "metadata": {
  "kernelspec": {
   "display_name": "Python 3",
   "language": "python",
   "name": "python3"
  },
  "language_info": {
   "codemirror_mode": {
    "name": "ipython",
    "version": 3
   },
   "file_extension": ".py",
   "mimetype": "text/x-python",
   "name": "python",
   "nbconvert_exporter": "python",
   "pygments_lexer": "ipython3",
   "version": "3.7.0"
  }
 },
 "nbformat": 4,
 "nbformat_minor": 2
}
