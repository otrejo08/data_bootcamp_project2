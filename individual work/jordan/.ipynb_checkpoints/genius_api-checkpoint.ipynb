{
 "cells": [
  {
   "cell_type": "code",
   "execution_count": 1,
   "metadata": {},
   "outputs": [],
   "source": [
    "import pandas as pd\n",
    "import numpy as np\n",
    "import requests\n",
    "from pprint import pprint\n",
    "from bs4 import BeautifulSoup\n",
    "import datetime as dt\n",
    "\n",
    "import re, string\n",
    "import nltk\n",
    "import contractions\n",
    "from nltk.corpus import stopwords\n",
    "\n",
    "from api_keys import api_key"
   ]
  },
  {
   "cell_type": "code",
   "execution_count": 2,
   "metadata": {},
   "outputs": [],
   "source": [
    "def request_song_info(artist_id, page_number):\n",
    "    base_url = f'https://api.genius.com'\n",
    "    headers = {f'Authorization': f'Bearer {api_key}'}\n",
    "    search_url = f'{base_url}/artists/{artist_id}/songs?per_page=40&page={page_number}&sort=popularity'\n",
    "    response = requests.get(search_url, headers=headers)\n",
    "\n",
    "    return response"
   ]
  },
  {
   "cell_type": "code",
   "execution_count": 3,
   "metadata": {},
   "outputs": [],
   "source": [
    "jay_dict = {}\n",
    "beyonce_dict = {}\n",
    "destiny_dict = {}\n",
    "artist_dict = {2 : jay_dict, 498 : beyonce_dict, 2831 : destiny_dict}\n",
    "        \n",
    "for artist_id, artist_dict in artist_dict.items():      \n",
    "\n",
    "    for page in range (1, 20):\n",
    "        response = request_song_info(artist_id, page)\n",
    "        json = response.json()\n",
    "        remote_song_info = None\n",
    "\n",
    "        for song in json['response']['songs']:\n",
    "            if str(artist_id) in str(song['primary_artist']['id']):\n",
    "                remote_song_info = song\n",
    "\n",
    "                if remote_song_info:\n",
    "                    song_url = remote_song_info['url']\n",
    "\n",
    "                if len(artist_dict) == 100:\n",
    "                    break\n",
    "\n",
    "                else:\n",
    "                    artist_dict.update({song['title'].lower() : song_url})"
   ]
  },
  {
   "cell_type": "code",
   "execution_count": 4,
   "metadata": {},
   "outputs": [
    {
     "name": "stdout",
     "output_type": "stream",
     "text": [
      "the jay_z_dict contains 100 songs.\n",
      "the beyonce_dict contains 100 songs.\n",
      "the destiny_dict contains 100 songs.\n"
     ]
    }
   ],
   "source": [
    "print(f'the jay_z_dict contains {len(jay_dict)} songs.')\n",
    "print(f'the beyonce_dict contains {len(beyonce_dict)} songs.')\n",
    "print(f'the destiny_dict contains {len(destiny_dict)} songs.')"
   ]
  },
  {
   "cell_type": "code",
   "execution_count": 5,
   "metadata": {},
   "outputs": [],
   "source": [
    "def scrap_song_url(song_url, date_index):\n",
    "    page = requests.get(song_url)\n",
    "    html = BeautifulSoup(page.text, 'html.parser')\n",
    "    release_date = dt.datetime.strptime(html.find_all('span', {'class': 'metadata_unit-info metadata_unit-info--text_only'})[date_index].get_text(), '%B %d, %Y').strftime('%Y%m%d')\n",
    "    lyrics = html.find('div', class_='lyrics').get_text()\n",
    "\n",
    "    return release_date, lyrics"
   ]
  },
  {
   "cell_type": "code",
   "execution_count": 6,
   "metadata": {},
   "outputs": [
    {
     "name": "stdout",
     "output_type": "stream",
     "text": [
      "20021010\n"
     ]
    }
   ],
   "source": [
    "relationship_start = scrap_song_url(jay_dict[\"'03 bonnie & clyde\"], 1)[0]\n",
    "print(int(relationship_start))"
   ]
  },
  {
   "cell_type": "code",
   "execution_count": 7,
   "metadata": {},
   "outputs": [],
   "source": [
    "pre_jay_dict = {}\n",
    "post_jay_dict = {}\n",
    "\n",
    "for song, song_url in jay_dict.items():\n",
    "    try:\n",
    "        if int(scrap_song_url(song_url, 1)[0]) >= int(relationship_start):\n",
    "            if len(post_jay_dict) == 7:\n",
    "                continue\n",
    "            else:\n",
    "                post_jay_dict.update({song : [scrap_song_url(song_url, 1)[0], song_url, scrap_song_url(song_url, 1)[1]]})\n",
    "        else:\n",
    "            if len(pre_jay_dict) == 7:\n",
    "                continue\n",
    "            else:\n",
    "                pre_jay_dict.update({song : [scrap_song_url(song_url, 1)[0], song_url, scrap_song_url(song_url, 1)[1]]})\n",
    "\n",
    "    except:\n",
    "        try:\n",
    "            if int(scrap_song_url(song_url, 0)[0]) >= int(relationship_start):\n",
    "                if len(post_jay_dict) == 7:\n",
    "                    continue\n",
    "                else:\n",
    "                    post_jay_dict.update({song : [scrap_song_url(song_url, 0)[0], song_url, scrap_song_url(song_url, 0)[1]]})\n",
    "            else:\n",
    "                if len(pre_jay_dict) == 7:\n",
    "                    continue\n",
    "                else:\n",
    "                    pre_jay_dict.update({song : [scrap_song_url(song_url, 0)[0], song_url, scrap_song_url(song_url, 0)[1]]})                \n",
    "                \n",
    "        except:\n",
    "            print(f'FAILED on {song}')"
   ]
  },
  {
   "cell_type": "code",
   "execution_count": 8,
   "metadata": {},
   "outputs": [
    {
     "name": "stdout",
     "output_type": "stream",
     "text": [
      "7\n",
      "7\n"
     ]
    }
   ],
   "source": [
    "print(len(pre_jay_dict))\n",
    "print(len(post_jay_dict))"
   ]
  },
  {
   "cell_type": "code",
   "execution_count": 9,
   "metadata": {},
   "outputs": [
    {
     "name": "stdout",
     "output_type": "stream",
     "text": [
      "FAILED on bow down\n",
      "FAILED on beyoncé [tracklist]\n",
      "FAILED on hello\n",
      "FAILED on roc\n",
      "FAILED on wake up\n",
      "FAILED on denial (poem)\n",
      "FAILED on flaws and all\n"
     ]
    }
   ],
   "source": [
    "pre_beyonce_dict = {}\n",
    "post_beyonce_dict = {}\n",
    "\n",
    "for song, song_url in beyonce_dict.items():\n",
    "    try:\n",
    "        if int(scrap_song_url(song_url, 1)[0]) >= int(relationship_start):\n",
    "            if len(post_beyonce_dict) == 7:\n",
    "                continue\n",
    "            else:\n",
    "                post_beyonce_dict.update({song : [scrap_song_url(song_url, 1)[0],  song_url, scrap_song_url(song_url, 1)[1]]})\n",
    "        else:\n",
    "            if len(pre_beyonce_dict) == 7:\n",
    "                continue\n",
    "            else:\n",
    "                pre_beyonce_dict.update({song : [scrap_song_url(song_url, 1)[0], song_url, scrap_song_url(song_url, 1)[1]]})\n",
    "\n",
    "    except:\n",
    "        try:\n",
    "            if int(scrap_song_url(song_url, 0)[0]) >= int(relationship_start):\n",
    "                if len(post_beyonce_dict) == 7:\n",
    "                    continue\n",
    "                else:\n",
    "                    post_beyonce_dict.update({song : [scrap_song_url(song_url, 0)[0], song_url, scrap_song_url(song_url, 0)[1]]})\n",
    "            else:\n",
    "                if len(pre_beyonce_dict) == 7:\n",
    "                    continue\n",
    "                else:\n",
    "                    pre_beyonce_dict.update({song : [scrap_song_url(song_url, 0)[0], song_url, scrap_song_url(song_url, 0)[1]]})                \n",
    "                \n",
    "        except:\n",
    "            print(f'FAILED on {song}')"
   ]
  },
  {
   "cell_type": "code",
   "execution_count": 10,
   "metadata": {},
   "outputs": [
    {
     "name": "stdout",
     "output_type": "stream",
     "text": [
      "0\n",
      "7\n"
     ]
    }
   ],
   "source": [
    "print(len(pre_beyonce_dict))\n",
    "print(len(post_beyonce_dict))"
   ]
  },
  {
   "cell_type": "code",
   "execution_count": 125,
   "metadata": {},
   "outputs": [
    {
     "data": {
      "text/plain": [
       "{'drunk in love': ['20131217',\n",
       "  'https://genius.com/Beyonce-drunk-in-love-lyrics',\n",
       "  '\\n\\n[Verse 1: Beyoncé]\\nI\\'ve been drinkin\\', I\\'ve been drinkin\\'\\nI get filthy when that liquor get into me\\nI\\'ve been thinkin\\', I\\'ve been thinkin\\'\\nWhy can\\'t I keep my fingers off it?\\nBaby, I want you, now-now\\nWhy can\\'t I keep my fingers off you?\\nBaby, I want you, now-now\\nCigars on ice, cigars on ice\\nFeelin\\' like an animal with these cameras all in my grill\\nFlashin\\' lights, flashin\\' lights\\nYou got me faded, faded, faded\\nBaby, I want you, now-now\\nCan\\'t keep your eyes off my fatty\\nDaddy, I want you, now-now\\nDrunk in love, I want you\\n\\n[Pre-Chorus: Beyoncé]\\nWe woke up in the kitchen\\nSaying, \"How the hell did this shit happen?\"\\nOh, baby, drunk in love\\nWe be all night, last thing I remember\\nIs our beautiful bodies grindin\\' up in that club\\nDrunk in love\\n\\n[Chorus: Beyoncé]\\nWe be all night, love, love\\nWe be all night, love, love\\n\\n[Verse 2: Beyoncé]\\nWe be all night, and everything all right\\nNo complaints from my body\\nSo fluorescent under these lights\\nBoy, I\\'m drinkin\\', park it in my lot, 7-11\\nI\\'m rubbin\\' on it, rub-rubbin\\'\\nIf you scared, call that reverend\\nBoy, I\\'m drinkin\\', get my brain right\\nArmand de Brignac, gangster wife\\nLouis sheets, he sweat it out\\nLike washrags, he wet it up\\nBoy, I\\'m drinkin\\', I\\'m singin\\' on the mic \\'till my voice hoarse\\nThen I fill the tub up halfway\\nThen ride it with my surfboard, surfboard, surfboard\\nGrainin\\' on that wood\\nGrainin\\'-grainin\\' on that wood\\nI\\'m swervin\\' on that, swervin\\'-swervin\\' on that\\nBig body been servin\\' all this\\nSwerve, surfin\\' all in this good-good\\n\\n[Pre-Chorus: Beyoncé]\\nWe woke up in the kitchen\\nSaying, \"How the hell did this shit happen?\"\\nOh, baby, drunk in love\\nWe be all night, last thing I remember\\nIs our beautiful bodies grindin\\' up in that club\\nDrunk in love\\n\\n[Chorus: Beyoncé + JAY-Z]\\nWe be all night, love, love\\nWe be all night, love, love\\nI\\'m nice right now… Hold up!\\n\\n[Verse 3: JAY-Z]\\nThat D\\'USSÉ is the shit if I do say so myself\\nIf I do say so myself, if I do say so myself\\nHold up, stumble all in the house\\nTime to back up all that mouth\\nThat you had all in the car\\nTalkin\\' about you the baddest bitch thus far\\nTalkin\\' about you be reppin\\' that Third\\nI wanna see all that shit that I heard\\nKnow I sling Clint Eastwood\\nHope you can handle this curve, uh\\nForeplay in a foyer, fucked up my Warhol\\nSlid the panties right to the side\\nAin\\'t got the time to take drawers off\\nOn sight, catch a charge I might\\nBeat the box up, like Mike in \\'97, I bite\\nI\\'m Ike Turner, turn up, baby, no I don\\'t play\\n\"Now eat the cake, Anna Mae!\"\\nSaid, \"Eat the cake, Anna Mae!\"\\nI\\'m nice, for y\\'all to reach these heights\\nYou gon\\' need G3, 4, 5, 6 flights\\nSleep tight, we sex again in the morning\\nYour breasteses is my breakfast\\nWe goin\\' in, we be all night\\n\\n[Chorus: Beyoncé]\\nWe be all night, love, love\\nWe be all night, love, love\\n\\n[Bridge: Beyoncé]\\nI\\'m never tired, never tired\\nI been sippin\\', that\\'s the only thing\\nThat\\'s keepin\\' me on fire, we on fire\\nDidn\\'t mean to spill that liquor all on my attire\\nI\\'ve been drinkin\\', watermelon\\nI want your body right here\\nDaddy, I want you, right now\\nCan\\'t keep your eyes off my fatty\\nDaddy, I want you\\n\\n[Chorus: Beyoncé]\\nWe be all night, love, love\\nWe be all night, love, love\\n\\n[Produced by Noah “Detail” Fisher, Beyoncé Knowles, Timbaland, Jerome Harmon, BOOTS and Andre Proctor]\\n\\n'],\n",
       " 'formation': ['20160206',\n",
       "  'https://genius.com/Beyonce-formation-lyrics',\n",
       "  \"\\n\\n[Intro: Messy Mya]\\nWhat happened at the New Wil'ins?\\nBitch, I'm back by popular demand\\n\\n[Refrain: Beyoncé]\\nY'all haters corny with that Illuminati mess\\nPaparazzi, catch my fly and my cocky fresh\\nI'm so reckless when I rock my Givenchy dress (Stylin')\\nI'm so possessive so I rock his Roc necklaces\\nMy daddy Alabama, momma Louisiana\\nYou mix that negro with that Creole, make a Texas bama\\nI like my baby heir with baby hair and afros\\nI like my negro nose with Jackson Five nostrils\\nEarned all this money, but they never take the country out me\\nI got hot sauce in my bag, swag\\n\\n[Interlude: Messy Mya & Big Freedia]\\nOh yeah, baby, oh yeah I, ohhhhh, oh, yes, I like that\\nI did not come to play with you hoes, haha\\nI came to slay, bitch\\nI like cornbreads and collard greens, bitch\\nOh, yes, you besta believe it\\n\\n[Refrain: Beyoncé]\\nY'all haters corny with that lluminati mess\\nPaparazzi, catch my fly and my cocky fresh\\nI'm so reckless when I rock my Givenchy dress (Stylin')\\nI'm so possessive so I rock his Roc necklaces\\nMy daddy Alabama, momma Louisiana\\nYou mix that negro with that Creole, make a Texas bama\\nI like my baby heir with baby hair and afros\\nI like my negro nose with Jackson Five nostrils\\nEarned all this money but they never take the country out me\\nI got hot sauce in my bag, swag\\n\\n[Chorus: Beyoncé]\\nI see it, I want it, I stunt, yellow bone it\\nI dream it, I work hard, I grind 'til I own it\\nI twirl on them haters, albino alligators\\nEl Camino with the seat low, sippin' Cuervo with no chaser\\nSometimes I go off (I go off), I go hard (I go hard)\\nGet what's mine (Take what's mine), I'm a star (I'm a star)\\n'Cause I slay (Slay), I slay (Hey), I slay (Okay), I slay (Okay)\\nAll day (Okay), I slay (Okay), I slay (Okay), I slay (Okay)\\nWe gon' slay (Slay), gon' slay (Okay), we slay (Okay), I slay (Okay)\\nI slay (Okay), okay (Okay), I slay (Okay), okay, okay, okay, okay\\nOkay, okay, ladies, now let's get in formation, 'cause I slay\\nOkay, ladies, now let's get in formation, 'cause I slay\\nProve to me you got some coordination, 'cause I slay\\nSlay trick, or you get eliminated\\n\\n[Verse: Beyoncé]\\nWhen he fuck me good, I take his ass to Red Lobster, 'cause I slay\\nWhen he fuck me good, I take his ass to Red Lobster, we gon slay\\nIf he hit it right, I might take him on a flight on my chopper, I slay\\nDrop him off at the mall, let him buy some J's, let him shop up, 'cause I slay\\nI might get your song played on the radio station, 'cause I slay\\nI might get your song played on the radio station, 'cause I slay\\nYou just might be a black Bill Gates in the making, 'cause I slay\\nI just might be a black Bill Gates in the making\\n\\n[Chorus: Beyoncé]\\nI see it, I want it, I stunt, yellow bone it\\nI dream it, I work hard, I grind 'til I own it\\nI twirl on them haters, albino alligators\\nEl Camino with the seat low, sippin' Cuervo with no chaser\\nSometimes I go off (I go off), I go hard (I go hard)\\nTake what's mine (Take what's mine), I'm a star (I'm a star)\\n'Cause I slay (Slay), I slay (Hey), I slay (Okay), I slay (Okay)\\nI slay (Okay), I slay (Okay), I slay (Okay), I slay (Okay)\\nWe gon' slay (Slay), gon' slay (Okay), we slay (Okay), I slay (Okay)\\nI slay (Okay), okay (Okay), I slay (Okay), okay, okay, okay, okay\\nOkay, okay, ladies, now let's get in formation, I slay\\nOkay, ladies, now let's get in formation, 'cause I slay\\nProve to me you got some coordination, 'cause I slay\\nSlay trick, or you get eliminated, I slay\\n\\n[Bridge: Beyoncé]\\nOkay, ladies, now let's get in formation, I slay\\nOkay, ladies, now let's get in formation\\nYou know you that bitch when you cause all this conversation\\nAlways stay gracious, best revenge is your paper\\n\\n[Outro]\\nGirl, I hear some thunder\\nGolly, look at that water, boy, oh Lord\\n\\n\"],\n",
       " 'partition': ['20131213',\n",
       "  'https://genius.com/Beyonce-partition-lyrics',\n",
       "  '\\n\\n[Part 1: Yoncé]\\n\\n[Intro]\\nLet me hear you say \"Hey, Ms. Carter!\" (Hey, Ms. Carter!)\\nSay, \"Hey, Ms. Carter!\" (Hey, Ms. Carter!)\\nGive me some!\\n\\n[Verse 1]\\nSee me up in the club with fifty-eleven girls\\nPosted in the back, diamond fangs in my grill\\nBrooklyn brim with my eyes sitting low\\nEvery boy in here with me got that smoke\\nEvery girl in here got to look me up and down\\nAll on Instagram, cake by the pound\\nCirculate the image every time I come around\\nG\\'s up, tell me how I\\'m looking, babe\\n\\n[Bridge]\\nBoy, this all for you just walk my way\\nJust tell me how it\\'s looking, babe\\nJust tell me how it\\'s looking, babe\\n(How it\\'s looking, babe?)\\nI do this all for you, baby, just take aim\\nAnd tell me how it\\'s looking babe\\n(How it\\'s looking, babe?)\\nTell me how it\\'s looking babe, looking babe\\n\\n[Verse 2]\\nDrop the bass, mane, the bass get lower\\nRadio say \"Speed it up\", I just go slower\\nHigh like treble, pumping on the mids\\nYa man ain\\'t ever seen a booty like this\\nAnd why you think ya keep my name rolling off the tongue\\n\\'Cause when he wanna smash, I\\'ll just write another one\\nI sneezed on the beat and the beat got sicker\\nYoncé all on his mouth like liquor\\nYoncé all on his mouth like liquor\\nYoncé all on his mouth like liquor\\nYoncé all on his mouth like liquor\\nLike, like liquor, like, like, like liquor\\nYoncé all on his mouth like liquor\\nYoncé all on his mouth like liquor\\nYoncé all on his mouth like liquor\\nLike, like liquor, like, like, like liquor\\n\\nBeyoncé, Beyoncé?\\nAre you happy to be in Paris? Are you happy to be in Paris?\\nBeyoncé, Beyoncé? Beyoncé!\\n\\n[Part 2: Partition]\\n\\n[Verse 1]\\nDriver, roll up the partition, please\\nDriver, roll up the partition, please\\nI don\\'t need you seeing \\'Yoncé on her knees\\nTook 45 minutes to get all dressed up\\nWe ain\\'t even gonna make it to this club\\nNow my mascara running, red lipstick smudged\\nOh, he so horny, yeah, he want to fuck\\nHe popped all my buttons, and he ripped my blouse\\nHe Monica Lewinsky-ed all on my gown\\n\\n[Pre-Chorus]\\nOh, there daddy, daddy didn’t bring the towel\\nOh, baby, baby we betta slow it down\\nTook 45 minutes to get all dressed up\\nWe ain\\'t even gonna make it to this club\\n\\n[Chorus]\\nTake all of me\\nI just wanna be the girl you like, girl you like\\nThe kind of girl you like, girl you like\\nTake all of me\\nI just wanna be the girl you like, girl you like\\nThe kinda girl you like\\nIs right here with me\\n\\n[Verse 2]\\nDriver, roll up the partition fast\\nDriver, roll up the partition fast\\nOver there I swear I saw them cameras flash\\nHandprints and footprints on my glass\\nHandprints and good grips all on my ass\\nPrivate show with the music blasting\\nHe like to call me Peaches when we get this nasty\\nRed wine drip, we’ll talk that trash\\nChauffeur eavesdropping, trying not to crash\\n\\n[Pre-Chorus]\\nOh, there daddy, daddy now you ripped my fur\\nOh, baby baby be sweating out my hair\\nTook 45 minutes to get all dressed up\\nWe ain\\'t even gonna make it to this club\\n\\n[Chorus]\\nTake all of me\\nI just wanna be the girl you like, girl you like\\nThe kind of girl you like, girl you like\\nTake all of me\\nI just wanna be the girl you like, girl you like\\nThe kinda girl you like\\nIs right here with me\\n\\n[Bridge]\\nHello!\\nEst-ce que tu aimes le sexe?\\nLe sexe, je veux dire: l\\'activité physique, le coït. Tu aimes ça?\\nTu ne t\\'intéresses pas au sexe?\\nLes hommes pensent que les féministes détestent le sexe mais c\\'est une activité très stimulante et naturelle que les femmes adorent\\n\\n[Chorus]\\nTake all of me\\nI just wanna be the girl you like, girl you like\\nThe kind of girl you like, girl you like\\nTake all of me\\nI just wanna be the girl you like, girl you like\\nThe kinda girl you like\\nIs right here with me\\n\\n'],\n",
       " 'mine': ['20131213',\n",
       "  'https://genius.com/Beyonce-mine-lyrics',\n",
       "  \"\\n\\n[Produced by Noah “40” Shebib, Beyoncé Knowles, Majid Jordan, Omen, and Key Wane]\\n\\n[Verse 1: Beyoncé]\\nI've been watching for the signs\\nTook a trip to clear my mind, oh\\nNow I'm even more lost\\nAnd you're still so fine, oh my, oh my\\nBeen having conversations about breakups and separations\\nI'm not feeling like myself since the baby\\nAre we gonna even make it? Oh\\n'Cause if we are, we're taking this a little too far\\nIf we are, we're taking this a little too far\\nBaby, if we are, we're taking this a little too far\\nMe being wherever I'm at, worried about wherever you are\\nWe're taking this a little too far\\nWe're taking this a little too far\\nWe're taking this a little too far\\n\\n[Chorus 1: Drake]\\nKnow you wanna roll with a good girl\\nDo it big, do it all for a good girl\\nOne time, this is a song for the good girl\\nDon’t sleep when you know you got it good, girl\\nOne time, this is a song for the good girl\\nWanna roll, wanna roll with a good girl?\\nOne time, this is a song for the good girl\\nAnd I still keep it hood, still treat you like I should\\nWassup?\\n\\n[Verse 2: Beyoncé]\\nOn my mind, up past my bedtime, no rest at the kingdom\\nAlone in my place, my heart is away, all that I can think of is\\nWe should get married, we should get married\\nLet's stop holding back on this and let's get carried away\\n\\n[Pre-Chorus Beyoncé]\\nStop making a big deal out of the little things\\n'Cause I got big deals and I got little things\\nGot everything I'm asking for but you\\nStop making a big deal out of the little things\\nLet's get carried away\\nCome right now, you know where I stay\\n\\n[Chorus 2: Drake & Beyoncé]\\nI just wanna say, you're mine, you're mine\\nI just wanna say, you're mine, you're mine\\nFuck what you heard, you're mine, you're mine\\nAll I'm really asking for is you\\nYou're mine, you're mine\\nI just wanna say, you're mine, you're mine\\nFuck what you heard, you're mine, you're mine\\nAs long as you know who you belong to\\n\\n[Chorus 1: Drake]\\nKnow you wanna roll with a good girl\\nDo it big do it all for a good girl\\nOne time, this is a song for the good girl\\nDon’t sleep when you know you got it good, girl\\nOne time, this is a song for the good girl\\nWanna roll, wanna roll with a good girl?\\nOne time, this is a song for the good girl\\nAnd I still keep it hood, still treat you like I should\\nWassup?\\n\\n[Verse 3: Drake]\\nFrom eight until late, I think ‘bout you\\nYou own my nights, I don’t know what to do, do\\nI can't get no rest, can't get no sleep\\nThis whole thing got way too deep and we should\\n\\n[Pre-Chorus: Drake]\\nStop making a big deal out of the little things\\n'Cause I got big deals and I got little things\\nGot everything I'm asking for but you\\nStop making a big deal out of the little things\\nLet's get carried away\\nCome right now, you know where I stay\\n\\n[Chorus 2: Drake & Beyoncé]\\nI just wanna say, you're mine, you're mine\\nI just wanna say, you're mine, you're mine\\nFuck what you heard, you're mine, you're mine\\nAll I'm really asking for is you\\nYou're mine, you're mine\\nI just wanna say, you're mine, you're mine\\nFuck what you heard, you're mine, you're mine\\nAs long as you know who you belong to\\n\\n[Chorus 1: Drake]\\nKnow you wanna roll with a good girl\\nDo it big do it all for a good girl\\nOne time, this is a song for the good girl\\nDon’t sleep when you know you got it good, girl\\nOne time, this is a song for the good girl\\nWanna roll, wanna roll with a good girl?\\nOne time, this is a song for the good girl\\nAnd I still keep it hood, still treat you like I should\\nWassup...\\n\\n[Verse 4: Drake]\\n(Pull up on you) I gotta pull up on you\\nYou gon' make me have to pull up on you\\nDon’t go ghost on me, I'ma go Thriller on you, I'ma just\\nI'ma let my hands do the talking when I see you baby girl\\nI miss feeling on you, I miss everything that's real about you\\nAnd that's everything about you that's just how I feel about you\\nI been about you and I’m still about you but\\nWe ain't finished talking\\nI told you you don’t need to worry about them bitches\\nAll them fives need to listen when the ten is talking\\n'Cause they don’t wanna see you happier than them\\nAnd girl you swear they all ya friends and that's been a problem\\nYou the one they hate, just come with that\\nI know you think it's funny that your ex is not a running back\\nBut that nigga came running back\\nAnd you tell me that you’re done with that\\nAnd I believe it's true\\nAs long as you know who you belong to\\n\\n[Outro: Beyoncé]\\nAll I’m really asking for is you\\nLong as you know who you belong to\\n\\n\"],\n",
       " 'hold up': ['20160423',\n",
       "  'https://genius.com/Beyonce-hold-up-lyrics',\n",
       "  '\\n\\n[Chorus]\\nHold up, they don\\'t love you like I love you\\nSlow down, they don\\'t love you like I love you\\nBack up, they don\\'t love you like I love you\\nStep down, they don\\'t love you like I love you\\nCan\\'t you see there\\'s no other man above you?\\nWhat a wicked way to treat the girl that loves you\\nHold up, they don\\'t love you like I love you\\nOh, down, they don\\'t love you like I love you\\n\\n[Verse 1]\\nSomething don\\'t feel right because it ain\\'t right\\nEspecially comin\\' up after midnight\\nI smell your secrets, and I\\'m not too perfect\\nTo ever feel this worthless\\nHow did it come down to this? Scrolling through your call list\\nI don\\'t wanna lose my pride, but I\\'ma fuck me up a bitch\\nKnow that I kept it sexy, you know I kept it fun\\nThere\\'s something that I\\'m missing, maybe my head for one\\n\\n[Refrain]\\nWhat\\'s worse, lookin\\' jealous or crazy? Jealous or crazy?\\nOr like being walked all over lately, walked all over lately\\nI\\'d rather be crazy\\n\\n[Chorus]\\nHold up, they don\\'t love you like I love you\\nSlow down, they don\\'t love you like I love you\\nBack up, they don\\'t love you like I love you\\nStep down, they don\\'t love you like I love you\\nCan\\'t you see there\\'s no other man above you?\\nWhat a wicked way to treat the girl that loves you\\nHold up, they don\\'t love you like I love you\\nSlow down they don\\'t love you like I love you\\n\\n[Verse 2]\\nLet\\'s imagine for a moment that you never made a name for yourself\\nOr mastered wealth, they had you labeled as a king\\nNever made it out the cage, still out there movin\\' in them streets\\nNever had the baddest woman in the game up in your sheets\\nWould they be down to ride?\\nNo, they used to hide from you, lie to you\\nBut y\\'all know we were made for each other\\nSo I find you and hold you down\\nMe sing se\\n\\n[Chorus]\\nHold up, they don\\'t love you like I love you\\nSlow down, they don\\'t love you like I love you\\nBack up, they don\\'t love you like I love you\\nStep down, they don\\'t love you like I love you\\nCan\\'t you see there\\'s no other man above you?\\nWhat a wicked way to treat the girl that loves you\\nHold up, they don\\'t love you like I love you\\nSlow down they don\\'t love you like I love you\\n\\n[Bridge]\\nHey, this such a shame\\nYou let this good love go to waste\\nI always keep the top tier, 5 star\\nBackseat lovin\\' in the car\\nLike make that wood, like make that wood\\nHolly like a boulevard\\n\\n[Refrain]\\nWhat\\'s worse, lookin\\' jealous or crazy? Jealous and crazy?\\nOr like being walked all over lately, walked all over lately\\nI\\'d rather be crazy\\n\\n[Chorus]\\nHold up, they don\\'t love you like I love you\\nSlow down, they don\\'t love you like I love you\\nBack up, they don\\'t love you like I love you\\nStep down, they don\\'t love you like I love you\\nCan\\'t you see there\\'s no other man above you?\\nWhat a wicked way to treat the girl that loves you\\nHold up, they don\\'t love you like I love you\\nOh, down, they don\\'t love you like I love you\\n\\n[Outro]\\nI hop up out my bed and get my swag on\\nI look in the mirror, say, \"What\\'s up?\"\\nWhat\\'s up, what\\'s up, what\\'s up\\nI hop up out my bed and get my swag on\\nI look in the mirror, say, \"What\\'s up?\"\\nWhat\\'s up, what\\'s up, what\\'s up\\n\\n'],\n",
       " 'sorry': ['20160423',\n",
       "  'https://genius.com/Beyonce-sorry-lyrics',\n",
       "  \"\\n\\n[Chorus]\\nSorry, I ain't sorry\\nSorry, I ain't sorry\\nI ain't sorry, nigga, nah\\nSorry, I ain't sorry\\nSorry, I ain't sorry\\nI ain't sorry\\n\\n[Verse 1]\\nHe trying to roll me up, I ain't picking up\\nHeaded to the club, I ain't thinking 'bout you\\nMe and my ladies sip my D'USSÉ cup\\nI don't give a fuck, chucking my deuces up\\nSuck on my balls, pause, I had enough\\nI ain't thinking 'bout you\\nI ain't thinking 'bout\\n\\n[Bridge]\\nMiddle fingers up, put them hands high\\nWave it in his face, tell him, boy, bye\\nTell him, boy, bye, boy, bye, middle fingers up\\nI ain't thinking 'bout you\\n\\n[Chorus]\\nSorry, I ain't sorry\\nSorry, I ain't sorry\\nI ain't sorry, nigga, nah\\nI ain't thinking 'bout you\\nSorry, I ain't sorry\\nSorry, I ain't sorry, I ain't sorry\\nNo, no, hell nah\\n\\n[Verse 2]\\nNow you want to say you're sorry\\nNow you want to call me crying\\nNow you gotta see me wilding\\nNow I'm the one that's lying\\nAnd I don't feel bad about it\\nIt's exactly what you get\\nStop interrupting my grinding\\n(You interrupting my grinding)\\nI ain't thinking 'bout you\\n\\n[Chorus]\\nSorry, I ain't sorry\\nI ain't thinking 'bout you\\nI ain't thinking 'bout you\\nSorry, I ain't sorry\\nI ain't thinking 'bout you\\nI ain't thinking 'bout you\\n\\n[Bridge]\\nMiddle fingers up, put them hands high\\nWave it in his face, tell him, boy, bye\\nTell him, boy, bye, boy, bye\\nMiddle fingers up, I ain't thinking 'bout you\\n\\n[Chorus]\\nSorry, I ain't sorry\\nSorry, I ain't sorry\\nI ain't sorry, nigga, nah\\nSorry, I ain't sorry\\nSorry, I ain't sorry\\nI ain't sorry\\nNo, no, hell nah\\n\\n[Verse 3]\\nLooking at my watch, he shoulda been home\\nToday I regret the night I put that ring on\\nHe always got them fucking excuses\\nI pray to the Lord you reveal what his truth is\\nI left a note in the hallway\\nBy the time you read it, I'll be far away\\nI'm far away\\nBut I ain't fucking with nobody\\nLet's have a toast to the good life\\nSuicide before you see this tear fall down my eyes\\nMe and my baby, we gon' be alright\\nWe gon' live a good life\\nBig homie better grow up\\nMe and my whoadies 'bout to stroll up\\nI see them boppers in the corner\\nThey sneaking out the back door\\nHe only want me when I'm not there\\nHe better call Becky with the good hair\\nHe better call Becky with the good hair\\n\\n[Visual breakdown]\\n\\n\"],\n",
       " '***flawless (remix)': ['20140802',\n",
       "  'https://genius.com/Beyonce-flawless-remix-lyrics',\n",
       "  '\\n\\n[Produced by Hit-Boy, Beyoncé Knowles, Rey Reel, Hazebanga and Boots]\\n\\n[Intro: Beyoncé]\\nDum-da-de-da\\nDo, do, do, do, do, do\\n(Coming down, dripping candy on the ground)\\n\\n[Verse 1: Beyoncé]\\nIt\\'s that Yoncé, your Yoncé\\nIn that lingerie, on that chardonnay\\nScoring touchdowns on your runway\\nI\\'m Texas forever, like Bun B\\nAnd I\\'m Redboned yo\\nI\\'m really rit\\' like Donjae\\nI\\'m camo in here yo\\nThese thots can\\'t clock me nowadays\\nYou wish I was your pound cake\\nBoy, you know I look good as fuck\\nWish I was your baby momma\\nWant me to come around and give you good karma\\nBut no, we escalating, up in this bitch, like elevators\\nOf course sometimes shit go down\\nWhen it\\'s a billion dollars on an elevator\\nOf course sometimes shit go down\\nWhen it\\'s a billion dollars on an elevator\\nHa-ha! God damn, God damn, God damn!!!\\n\\n[Bridge 1: Beyoncé]\\nMomma taught me good home training\\nMy Daddy taught me how to love my haters\\nMy sister told me I should speak my mind\\nMy man made me feel so God damn fine (I\\'m flawless!)\\n\\n[Chorus: Beyoncé]\\nYou wake up, flawless, post up, flawless\\nRidin\\' round in it, flawless, flossin\\' on that, flawless\\nThis diamond, flawless, my diamond, flawless\\nThis rock, flawless, my Roc, flawless\\nI woke up like this, I woke up like this\\nWe flawless, ladies tell \\'em\\nI woke up like this, I woke up like this\\nWe flawless, ladies tell \\'em\\nSay \"I look so good tonight\"\\nGod damn, God damn\\nSay \"I look so good tonight\"\\nGod damn, God damn, God damn\\n\\n[Bridge 2: Beyoncé]\\nI wake up looking this good\\n(God damn, God damn, God damn)\\nAnd I wouldn’t change it if I could\\n(If I if I, if I, if I)\\nAnd you can say what you want, I’m the shit\\n(What you want I’m the shit, I\\'m the shit)\\nI’m the shit, I’m the shit, I’m the shit\\nI want everyone to feel like this tonight\\nGod damn, God damn, God damn!\\n\\n[Sample: SpottieOttieDopaliscious]\\n(Onika...)\\n\\n[Verse 2: Nicki Minaj & (Beyoncé)]\\nLooking Trinidadian, Japanese and Indian\\nGot Malaysian, got that yaki, that wavy Brazilian\\n(Them bitches thirsty) UHN! (I’m Hungarian)\\n(Nicki, B, be eating diamond fangs, barbarian, RAAAAH!)\\nYo, like MJ doctor, they killing me -\\nPropofol, I know they hope I fall\\nBut tell ‘em winning, is my motherfuckin’ protocol\\n‘Cause I score, before I ever throw the ball\\nThese bitches washed up and ain’t no fuckin’ soap involved\\n(Uhn!) This every hood nigga dream, fantasizin\\' \\'bout Nicki and B\\nCurvalicious, pussy served delicious\\nMayday, mayday, Earth to bitches\\nSlap these hoes on they ass, like we birthing bitches\\nUHN! The Queen of Rap, slayin\\' with Queen B\\nIf you ain’t on the team, you playin’ for team D\\n\\'Cause we A-listers, uh we paid sisters\\nThis watch right here, done phased blizzards\\nI confess, I woke up like this\\nAll this drank in my cup like this\\nAll this ass on that flawless dick\\nInstagram, another flawless pic\\nFlawless city, with these flawless titties\\nI got all these hundreds, you got all them fifties\\nI’m with some flawless bitches, \\'cause they more than pretty\\n\\'Cause niggas love bad bitches that be on they grizzly\\nThrow that ass back, I be on my frisbee\\nPrincess-cut diamonds, on my Disney\\nHe want \"Monster Nicki\", in Sri Lanka\\nI told him, \"Meet me at the Trump, Ivanka\"\\nI said \"Come here, let me show you, how this cookie taste\"\\nThis that, \"Yeah nigga, eat the cookie\" face\\n\\n[Outro]\\n(Right, right, right)\\n\\n']}"
      ]
     },
     "execution_count": 125,
     "metadata": {},
     "output_type": "execute_result"
    }
   ],
   "source": [
    "post_beyonce_dict"
   ]
  },
  {
   "cell_type": "code",
   "execution_count": 11,
   "metadata": {},
   "outputs": [
    {
     "name": "stdout",
     "output_type": "stream",
     "text": [
      "FAILED on opera of the bells\n",
      "FAILED on what's it gonna be\n",
      "FAILED on i can't go for that\n",
      "FAILED on why you actin'\n",
      "FAILED on my man\n",
      "FAILED on silent night\n",
      "FAILED on jumpin', jumpin' (remix extended version)\n",
      "FAILED on got's my own\n",
      "FAILED on love me (not)\n",
      "FAILED on proud family\n",
      "FAILED on dot\n",
      "FAILED on this love\n",
      "FAILED on a \"dc\" christmas medley\n",
      "FAILED on 2 step\n",
      "FAILED on this christmas\n",
      "FAILED on winter paradise\n",
      "FAILED on hold my beer\n"
     ]
    }
   ],
   "source": [
    "pre_destiny_dict = {}\n",
    "\n",
    "for song, song_url in destiny_dict.items():\n",
    "    try:\n",
    "        if int(scrap_song_url(song_url, 1)[0]) < int(relationship_start):\n",
    "            if len(pre_destiny_dict) == 7:\n",
    "                continue\n",
    "            else:\n",
    "                pre_destiny_dict.update({song : [scrap_song_url(song_url, 1)[0], song_url, scrap_song_url(song_url, 1)[1]]})\n",
    "    except:\n",
    "        try:\n",
    "            if int(scrap_song_url(song_url, 0)[0]) < int(relationship_start):\n",
    "                if len(pre_destiny_dict) == 7:\n",
    "                    continue\n",
    "                else:\n",
    "                    pre_destiny_dict.update({song : [scrap_song_url(song_url, 0)[0], song_url, scrap_song_url(song_url, 0)[1]]})\n",
    "        except:\n",
    "            print(f'FAILED on {song}')"
   ]
  },
  {
   "cell_type": "code",
   "execution_count": 12,
   "metadata": {},
   "outputs": [
    {
     "name": "stdout",
     "output_type": "stream",
     "text": [
      "7\n"
     ]
    }
   ],
   "source": [
    "print(len(pre_destiny_dict))"
   ]
  },
  {
   "cell_type": "code",
   "execution_count": 135,
   "metadata": {},
   "outputs": [],
   "source": [
    "pre_jay_df = pd.DataFrame.from_dict(pre_jay_dict, orient = 'index', columns = ['release_date', 'song_url', 'lyrics', ])\n",
    "post_jay_df = pd.DataFrame.from_dict(post_jay_dict, orient = 'index', columns = ['release_date', 'song_url', 'lyrics'])\n",
    "pre_beyonce_df = pd.DataFrame.from_dict(pre_beyonce_dict, orient = 'index', columns = ['release_date', 'song_url', 'lyrics'])\n",
    "post_beyonce_df = pd.DataFrame.from_dict(post_beyonce_dict, orient = 'index', columns = ['release_date', 'song_url', 'lyrics'])\n",
    "pre_destiny_df = pd.DataFrame.from_dict(pre_destiny_dict, orient = 'index', columns = ['release_date', 'song_url', 'lyrics'])"
   ]
  },
  {
   "cell_type": "code",
   "execution_count": 136,
   "metadata": {},
   "outputs": [],
   "source": [
    "stop = stopwords.words('english')\n",
    "\n",
    "def clean_text(artist_df):\n",
    "    artist_df = artist_df.apply(lambda x: x.replace('\\n', ' '))\n",
    "    artist_df = artist_df.apply(lambda x: re.sub('\\[[^]]*\\]', '', x))\n",
    "    artist_df = artist_df.apply(lambda x: x.lower())\n",
    "    artist_df = artist_df.apply(lambda x: contractions.fix(x))\n",
    "    artist_df = artist_df.apply(lambda x: re.sub(r'[^\\w\\s]','', x))\n",
    "    artist_df = artist_df.apply(lambda x: [item for item in x.split() if item not in stop])\n",
    "    return artist_df"
   ]
  },
  {
   "cell_type": "code",
   "execution_count": 137,
   "metadata": {},
   "outputs": [],
   "source": [
    "pre_jay_df.lyrics = clean_text(pre_jay_df.lyrics)\n",
    "post_jay_df.lyrics = clean_text(post_jay_df.lyrics)\n",
    "pre_beyonce_df.lyrics = clean_text(pre_beyonce_df.lyrics)\n",
    "post_beyonce_df.lyrics = clean_text(post_beyonce_df.lyrics)\n",
    "pre_destiny_df.lyrics = clean_text(pre_destiny_df.lyrics)"
   ]
  },
  {
   "cell_type": "code",
   "execution_count": 138,
   "metadata": {},
   "outputs": [],
   "source": [
    "pre_beyonce_df = pd.concat([pre_beyonce_df, pre_destiny_df])"
   ]
  },
  {
   "cell_type": "code",
   "execution_count": 139,
   "metadata": {},
   "outputs": [],
   "source": [
    "pre_jay_df['unique_words'] = pre_jay_df.lyrics.apply(lambda x: len(set(x)))\n",
    "pre_jay_df['word_count'] = pre_jay_df.lyrics.apply(lambda x: len(x))\n",
    "pre_jay_df['percent_unique'] = pre_jay_df.unique_words / pre_jay_df.word_count\n",
    "\n",
    "post_jay_df['unique_words'] = post_jay_df.lyrics.apply(lambda x: len(set(x)))\n",
    "post_jay_df['word_count'] = post_jay_df.lyrics.apply(lambda x: len(x))\n",
    "post_jay_df['percent_unique'] = post_jay_df.unique_words / post_jay_df.word_count\n",
    "\n",
    "pre_beyonce_df['unique_words'] = pre_beyonce_df.lyrics.apply(lambda x: len(set(x)))\n",
    "pre_beyonce_df['word_count'] = pre_beyonce_df.lyrics.apply(lambda x: len(x))\n",
    "pre_beyonce_df['percent_unique'] = pre_beyonce_df.unique_words / pre_beyonce_df.word_count\n",
    "\n",
    "post_beyonce_df['unique_words'] = post_beyonce_df.lyrics.apply(lambda x: len(set(x)))\n",
    "post_beyonce_df['word_count'] = post_beyonce_df.lyrics.apply(lambda x: len(x))\n",
    "post_beyonce_df['percent_unique'] = post_beyonce_df.unique_words / post_beyonce_df.word_count"
   ]
  },
  {
   "cell_type": "code",
   "execution_count": 141,
   "metadata": {},
   "outputs": [],
   "source": [
    "pre_jay_data = {'release_date' : pre_jay_df.release_date.values.tolist(), \n",
    "               'percent_unique' : pre_jay_df.percent_unique.values.tolist(),\n",
    "               'word_count' : pre_jay_df.word_count.values.tolist(),\n",
    "               'song': pre_jay_df.index.tolist(),\n",
    "               'song_url': pre_jay_df.song_url.values.tolist()}"
   ]
  }
 ],
 "metadata": {
  "kernelspec": {
   "display_name": "Python 3",
   "language": "python",
   "name": "python3"
  },
  "language_info": {
   "codemirror_mode": {
    "name": "ipython",
    "version": 3
   },
   "file_extension": ".py",
   "mimetype": "text/x-python",
   "name": "python",
   "nbconvert_exporter": "python",
   "pygments_lexer": "ipython3",
   "version": "3.7.0"
  }
 },
 "nbformat": 4,
 "nbformat_minor": 2
}
