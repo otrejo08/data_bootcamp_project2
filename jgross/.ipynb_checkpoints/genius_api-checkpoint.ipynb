{
 "cells": [
  {
   "cell_type": "code",
   "execution_count": 2,
   "metadata": {},
   "outputs": [],
   "source": [
    "import pandas as pd\n",
    "import numpy as np\n",
    "import requests\n",
    "from pprint import pprint\n",
    "from bs4 import BeautifulSoup\n",
    "import datetime as dt\n",
    "\n",
    "import re, string, unicodedata\n",
    "import nltk\n",
    "import contractions\n",
    "# from nltk import word_tokenize, sent_tokenize\n",
    "from nltk.corpus import stopwords\n",
    "\n",
    "# from nltk.stem import LancasterStemmer, WordNetLemmatizer\n",
    "\n",
    "from api_keys import api_key"
   ]
  },
  {
   "cell_type": "code",
   "execution_count": 3,
   "metadata": {},
   "outputs": [],
   "source": [
    "def request_song_info(artist_id, page_number):\n",
    "    base_url = f'https://api.genius.com'\n",
    "    headers = {f'Authorization': f'Bearer {api_key}'}\n",
    "    search_url = f'{base_url}/artists/{artist_id}/songs?per_page=40&page={page_number}&sort=popularity'\n",
    "    response = requests.get(search_url, headers=headers)\n",
    "\n",
    "    return response"
   ]
  },
  {
   "cell_type": "code",
   "execution_count": 4,
   "metadata": {},
   "outputs": [],
   "source": [
    "jay_z_dict = {}\n",
    "beyonce_dict = {}\n",
    "artist_dict = {2 : jay_z_dict, 498 : beyonce_dict}\n",
    "        \n",
    "for artist_id, artist_dict in artist_dict.items():      \n",
    "\n",
    "    for page in range (1, 20):\n",
    "        response = request_song_info(artist_id, page)\n",
    "        json = response.json()\n",
    "        remote_song_info = None\n",
    "\n",
    "        for song in json['response']['songs']:\n",
    "            if str(artist_id) in str(song['primary_artist']['id']):\n",
    "                remote_song_info = song\n",
    "\n",
    "                if remote_song_info:\n",
    "                    song_url = remote_song_info['url']\n",
    "\n",
    "                if len(artist_dict) == 300:\n",
    "                    break\n",
    "\n",
    "                else:\n",
    "                    artist_dict.update({song['title'].lower() : song_url})"
   ]
  },
  {
   "cell_type": "code",
   "execution_count": 5,
   "metadata": {},
   "outputs": [
    {
     "name": "stdout",
     "output_type": "stream",
     "text": [
      "the jay_z_dict contains 300 songs.\n",
      "the beyonce_dict contains 300 songs.\n"
     ]
    }
   ],
   "source": [
    "print(f'the jay_z_dict contains {len(jay_z_dict)} songs.')\n",
    "print(f'the beyonce_dict contains {len(beyonce_dict)} songs.')"
   ]
  },
  {
   "cell_type": "code",
   "execution_count": 6,
   "metadata": {},
   "outputs": [],
   "source": [
    "def scrap_song_url(song_url, date_index):\n",
    "    page = requests.get(song_url)\n",
    "    html = BeautifulSoup(page.text, 'html.parser')\n",
    "    release_date = dt.datetime.strptime(html.find_all('span', {'class': 'metadata_unit-info metadata_unit-info--text_only'})[date_index].get_text(), '%B %d, %Y').strftime('%Y%m%d')\n",
    "    lyrics = html.find('div', class_='lyrics').get_text()\n",
    "\n",
    "    return release_date, lyrics"
   ]
  },
  {
   "cell_type": "code",
   "execution_count": 7,
   "metadata": {},
   "outputs": [
    {
     "name": "stdout",
     "output_type": "stream",
     "text": [
      "20021010\n"
     ]
    }
   ],
   "source": [
    "relationship_start = scrap_song_url(jay_z_dict[\"'03 bonnie & clyde\"], 1)[0]\n",
    "print(int(relationship_start))"
   ]
  },
  {
   "cell_type": "code",
   "execution_count": 8,
   "metadata": {},
   "outputs": [
    {
     "name": "stdout",
     "output_type": "stream",
     "text": [
      "FAILED on dead presidents iii\n",
      "FAILED on history\n",
      "FAILED on 44 four's\n",
      "FAILED on a million and one questions (remix)\n",
      "FAILED on blow the whistle\n",
      "FAILED on 30 something (remix)\n",
      "FAILED on open letter part ii (remix)\n",
      "FAILED on pump it up freestyle\n",
      "FAILED on if i can't (freestyle)\n",
      "FAILED on when the money goes\n",
      "FAILED on addicted to the game\n",
      "FAILED on 2002 funk flex freestyle\n",
      "FAILED on dead or alive, pt. 1\n",
      "FAILED on early this morning\n"
     ]
    }
   ],
   "source": [
    "pre_jay_z_dict = {}\n",
    "post_jay_z_dict = {}\n",
    "\n",
    "for song, song_url in jay_z_dict.items():\n",
    "    try:\n",
    "        if int(scrap_song_url(song_url, 1)[0]) >= int(relationship_start):\n",
    "            if len(post_jay_z_dict) == 50:\n",
    "                continue\n",
    "            else:\n",
    "                post_jay_z_dict.update({song : scrap_song_url(song_url, 1)[1]})\n",
    "        else:\n",
    "            if len(pre_jay_z_dict) == 50:\n",
    "                continue\n",
    "            else:\n",
    "                pre_jay_z_dict.update({song : scrap_song_url(song_url, 1)[1]})\n",
    "\n",
    "    except:\n",
    "        try:\n",
    "            if int(scrap_song_url(song_url, 0)[0]) >= int(relationship_start):\n",
    "                if len(post_jay_z_dict) == 50:\n",
    "                    continue\n",
    "                else:\n",
    "                    post_jay_z_dict.update({song : scrap_song_url(song_url, 0)[1]})\n",
    "            else:\n",
    "                if len(pre_jay_z_dict) == 50:\n",
    "                    continue\n",
    "                else:\n",
    "                    pre_jay_z_dict.update({song : scrap_song_url(song_url, 0)[1]})                \n",
    "                \n",
    "        except:\n",
    "            print(f'FAILED on {song}')"
   ]
  },
  {
   "cell_type": "code",
   "execution_count": 9,
   "metadata": {},
   "outputs": [
    {
     "name": "stdout",
     "output_type": "stream",
     "text": [
      "50\n",
      "50\n"
     ]
    }
   ],
   "source": [
    "print(len(pre_jay_z_dict))\n",
    "print(len(post_jay_z_dict))"
   ]
  },
  {
   "cell_type": "code",
   "execution_count": 31,
   "metadata": {},
   "outputs": [
    {
     "name": "stdout",
     "output_type": "stream",
     "text": [
      "FAILED on bow down\n",
      "FAILED on beyoncé [tracklist]\n",
      "FAILED on hello\n",
      "FAILED on roc\n",
      "FAILED on wake up\n",
      "FAILED on denial (poem)\n",
      "FAILED on flaws and all\n",
      "FAILED on resentment (live at on the run tour)\n",
      "FAILED on i been on (remix)\n",
      "FAILED on i go gets out\n",
      "FAILED on standing on the sun (unfinished version)\n",
      "FAILED on rise up\n",
      "FAILED on god made you beautiful\n",
      "FAILED on still in love (kissing you)\n",
      "FAILED on beautiful liar (freemasons mix)\n",
      "FAILED on satellites\n",
      "FAILED on ghost\n",
      "FAILED on one night only (disco)\n",
      "FAILED on if looks could kill (you would be dead)\n",
      "FAILED on sexy lil' thug (remix)\n",
      "FAILED on yours and mine\n",
      "FAILED on apology to fans\n",
      "FAILED on runway\n",
      "FAILED on i can't take no more\n",
      "FAILED on apathy\n",
      "FAILED on the formation world tour\n",
      "FAILED on hard to say goodbye\n",
      "FAILED on what is it gonna be\n",
      "FAILED on me, myself & i (remix)\n",
      "FAILED on cards never lie\n",
      "FAILED on if i were a boy / you oughta know (live at the \"52nd grammy awards\")\n",
      "FAILED on fighting temptation\n",
      "FAILED on slow love\n",
      "FAILED on letter to michelle obama\n",
      "FAILED on \"self-titled\" part 2 . imperfection\n",
      "FAILED on ice cream truck\n",
      "FAILED on control\n",
      "FAILED on love drought & sandcastles (live from the 2017 grammy's awards)\n",
      "FAILED on black culture\n",
      "FAILED on diamonds\n",
      "FAILED on the last great seduction\n",
      "FAILED on anger\n",
      "FAILED on my first time\n",
      "FAILED on waiting\n",
      "FAILED on settle 4 u\n",
      "FAILED on i'm alone now\n",
      "FAILED on dangerously in love (the beyonce experience live)\n",
      "FAILED on baby, you're the only man\n",
      "FAILED on new shoes\n",
      "FAILED on stop that!\n",
      "FAILED on stop sign\n",
      "FAILED on beautiful liar (spanglish version)\n",
      "FAILED on next ex\n",
      "FAILED on i'm leaving\n",
      "FAILED on end of time (jimek remix)\n",
      "FAILED on fingertips/master blaster (jammin')/higher ground [live at the \"stevie wonder tribute 'songs in the key of life\"]\n",
      "FAILED on 2017 grammy's best urban contemporary album speech\n",
      "FAILED on sexuality\n",
      "FAILED on if i were a boy [maurice joshua mojo uk remix]\n",
      "FAILED on i wanna be where you are\n",
      "FAILED on bonnie and clyde medley (the beyonce experience live)\n",
      "FAILED on cherry\n",
      "FAILED on life\n",
      "FAILED on irreplaceable (trina remix)\n",
      "FAILED on the formation tour setlist\n",
      "FAILED on halo [dave audé club remix]\n",
      "FAILED on love on top (dj escape & tony coluccio remix)\n",
      "FAILED on purple rain\n",
      "FAILED on baby boy medley (the beyonce experience live)\n",
      "FAILED on deja vu (no rap version)‎\n",
      "FAILED on i been on\n",
      "FAILED on wishing on a star (remix)\n",
      "FAILED on diva (karmatronic club remix)\n",
      "FAILED on best thing i never had (lars b remix)\n",
      "FAILED on run the world (girls) (jochen simms club remix)\n",
      "FAILED on countdown (isa machine remix)\n",
      "FAILED on green light medley (the beyonce experience live)\n",
      "FAILED on mrs. melanin\n",
      "FAILED on baby boy [junior's world mixshow]\n",
      "FAILED on crazy in love (without rap)\n",
      "FAILED on naughty girl medley (the beyonce experience live)\n",
      "FAILED on broken-hearted girl [catalyst remix]\n",
      "FAILED on ring the alarm (freemasons mix)\n",
      "FAILED on halo - gomi club remix\n",
      "FAILED on irreemplazable (norteña remix)\n",
      "FAILED on crazy in love [rockwilder remix]\n",
      "FAILED on nefertiti\n",
      "FAILED on ego (ok dac remix)\n",
      "FAILED on my body\n",
      "FAILED on sweet dreams [harlan pepper & ag iii remix]\n",
      "FAILED on end of time (wawa extended)\n",
      "FAILED on politica\n",
      "FAILED on sweet dreams (dave spoon remix)\n",
      "FAILED on krazy in luv [maurice's nu soul remix]\n",
      "FAILED on halo - lost daze club remix\n",
      "FAILED on crazy in love (feat. jay z) [live]\n",
      "FAILED on sweet dreams (karmatronic club remix)\n",
      "FAILED on check on it [bama boyz remix]\n",
      "FAILED on best thing i never had [original version]\n",
      "FAILED on ring the alarm (grizz remix)\n",
      "FAILED on free fall\n",
      "FAILED on naughty girl [calderone quayle club mix]\n",
      "FAILED on donk\n",
      "FAILED on check on it [maurice nu soul mix]\n",
      "FAILED on check on it [junior vasquez club mix]\n"
     ]
    }
   ],
   "source": [
    "pre_beyonce_dict = {}\n",
    "post_beyonce_dict = {}\n",
    "\n",
    "for song, song_url in beyonce_dict.items():\n",
    "    try:\n",
    "        if int(scrap_song_url(song_url, 1)[0]) >= int(relationship_start):\n",
    "            if len(post_beyonce_dict) == 50:\n",
    "                continue\n",
    "            else:\n",
    "                post_beyonce_dict.update({song : scrap_song_url(song_url, 1)[1]})\n",
    "        else:\n",
    "            if len(pre_beyonce_dict) == 50:\n",
    "                continue\n",
    "            else:\n",
    "                pre_beyonce_dict.update({song : scrap_song_url(song_url, 1)[1]})\n",
    "\n",
    "    except:\n",
    "        try:\n",
    "            if int(scrap_song_url(song_url, 0)[0]) >= int(relationship_start):\n",
    "                if len(post_beyonce_dict) == 50:\n",
    "                    continue\n",
    "                else:\n",
    "                    post_beyonce_dict.update({song : scrap_song_url(song_url, 0)[1]})\n",
    "            else:\n",
    "                if len(pre_beyonce_dict) == 50:\n",
    "                    continue\n",
    "                else:\n",
    "                    pre_beyonce_dict.update({song : scrap_song_url(song_url, 0)[1]})                \n",
    "                \n",
    "        except:\n",
    "            print(f'FAILED on {song}')"
   ]
  },
  {
   "cell_type": "code",
   "execution_count": 32,
   "metadata": {},
   "outputs": [
    {
     "name": "stdout",
     "output_type": "stream",
     "text": [
      "6\n",
      "50\n"
     ]
    }
   ],
   "source": [
    "print(len(pre_beyonce_dict))\n",
    "print(len(post_beyonce_dict))"
   ]
  },
  {
   "cell_type": "code",
   "execution_count": 62,
   "metadata": {},
   "outputs": [],
   "source": [
    "pre_jay_z_df = pd.DataFrame.from_dict(pre_jay_z_dict, orient = 'index', columns = ['pre_text'])\n",
    "post_jay_z_df = pd.DataFrame.from_dict(post_jay_z_dict, orient = 'index', columns = ['post_text'])\n",
    "pre_beyonce_df = pd.DataFrame.from_dict(pre_beyonce_dict, orient = 'index', columns = ['pre_text'])\n",
    "post_beyonce_df = pd.DataFrame.from_dict(pre_beyonce_dict, orient = 'index', columns = ['post_text'])"
   ]
  },
  {
   "cell_type": "code",
   "execution_count": 63,
   "metadata": {},
   "outputs": [],
   "source": [
    "stop = stopwords.words('english')\n",
    "\n",
    "def clean_text(artist_df):\n",
    "    artist_df = artist_df.apply(lambda x: x.replace('\\n', ' '))\n",
    "    artist_df = artist_df.apply(lambda x: re.sub('\\[[^]]*\\]', '', x))\n",
    "    artist_df = artist_df.apply(lambda x: x.lower())\n",
    "    artist_df = artist_df.apply(lambda x: contractions.fix(x))\n",
    "    artist_df = artist_df.apply(lambda x: re.sub(r'[^\\w\\s]','', x))\n",
    "    artist_df = artist_df.apply(lambda x: [item for item in x.split() if item not in stop])\n",
    "    return artist_df"
   ]
  },
  {
   "cell_type": "code",
   "execution_count": 64,
   "metadata": {},
   "outputs": [],
   "source": [
    "pre_jay_z_df.pre_text = clean_text(pre_jay_z_df.pre_text)\n",
    "post_jay_z_df.post_text = clean_text(post_jay_z_df.post_text)\n",
    "pre_beyonce_df.pre_text = clean_text(pre_beyonce_df.pre_text)\n",
    "post_beyonce_df.post_text = clean_text(post_beyonce_df.post_text)"
   ]
  },
  {
   "cell_type": "code",
   "execution_count": 65,
   "metadata": {},
   "outputs": [
    {
     "data": {
      "text/html": [
       "<div>\n",
       "<style scoped>\n",
       "    .dataframe tbody tr th:only-of-type {\n",
       "        vertical-align: middle;\n",
       "    }\n",
       "\n",
       "    .dataframe tbody tr th {\n",
       "        vertical-align: top;\n",
       "    }\n",
       "\n",
       "    .dataframe thead th {\n",
       "        text-align: right;\n",
       "    }\n",
       "</style>\n",
       "<table border=\"1\" class=\"dataframe\">\n",
       "  <thead>\n",
       "    <tr style=\"text-align: right;\">\n",
       "      <th></th>\n",
       "      <th>post_text</th>\n",
       "    </tr>\n",
       "  </thead>\n",
       "  <tbody>\n",
       "    <tr>\n",
       "      <th>work it out</th>\n",
       "      <td>[honey, baby, know, ask, much, girl, spending,...</td>\n",
       "    </tr>\n",
       "    <tr>\n",
       "      <th>hey goldmember</th>\n",
       "      <td>[solid, gold, solid, gold, gold, solid, gold, ...</td>\n",
       "    </tr>\n",
       "    <tr>\n",
       "      <th>after all is said and done</th>\n",
       "      <td>[looking, mirror, open, face, pain, erased, sk...</td>\n",
       "    </tr>\n",
       "    <tr>\n",
       "      <th>love me...</th>\n",
       "      <td>[yo, let, tell, care, locked, could, smell, pi...</td>\n",
       "    </tr>\n",
       "    <tr>\n",
       "      <th>the spot (jail)</th>\n",
       "      <td>[live, life, fullest, party, every, chance, ge...</td>\n",
       "    </tr>\n",
       "  </tbody>\n",
       "</table>\n",
       "</div>"
      ],
      "text/plain": [
       "                                                                    post_text\n",
       "work it out                 [honey, baby, know, ask, much, girl, spending,...\n",
       "hey goldmember              [solid, gold, solid, gold, gold, solid, gold, ...\n",
       "after all is said and done  [looking, mirror, open, face, pain, erased, sk...\n",
       "love me...                  [yo, let, tell, care, locked, could, smell, pi...\n",
       "the spot (jail)             [live, life, fullest, party, every, chance, ge..."
      ]
     },
     "execution_count": 65,
     "metadata": {},
     "output_type": "execute_result"
    }
   ],
   "source": [
    "post_beyonce_df.head()"
   ]
  },
  {
   "cell_type": "code",
   "execution_count": null,
   "metadata": {},
   "outputs": [],
   "source": [
    "# pre_jay_z_df.pre_text = pre_jay_z_df.pre_text.apply(lambda x: nltk.word_tokenize(x))"
   ]
  },
  {
   "cell_type": "code",
   "execution_count": 56,
   "metadata": {},
   "outputs": [],
   "source": [
    "pre_jay_z_df.to_csv('test.csv')"
   ]
  }
 ],
 "metadata": {
  "kernelspec": {
   "display_name": "Python 3",
   "language": "python",
   "name": "python3"
  },
  "language_info": {
   "codemirror_mode": {
    "name": "ipython",
    "version": 3
   },
   "file_extension": ".py",
   "mimetype": "text/x-python",
   "name": "python",
   "nbconvert_exporter": "python",
   "pygments_lexer": "ipython3",
   "version": "3.7.0"
  }
 },
 "nbformat": 4,
 "nbformat_minor": 2
}
