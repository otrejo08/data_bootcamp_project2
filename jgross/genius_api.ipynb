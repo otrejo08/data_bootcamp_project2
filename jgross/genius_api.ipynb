{
 "cells": [
  {
   "cell_type": "code",
   "execution_count": null,
   "metadata": {},
   "outputs": [],
   "source": [
    "import pandas as pd\n",
    "import numpy as np\n",
    "import requests\n",
    "from pprint import pprint\n",
    "from bs4 import BeautifulSoup\n",
    "import datetime as dt\n",
    "\n",
    "from api_keys import api_key"
   ]
  },
  {
   "cell_type": "code",
   "execution_count": null,
   "metadata": {},
   "outputs": [],
   "source": [
    "def request_song_info(artist_id, page_number):\n",
    "    base_url = f'https://api.genius.com'\n",
    "    headers = {f'Authorization': f'Bearer {api_key}'}\n",
    "    search_url = f'{base_url}/artists/{artist_id}/songs?per_page=40&page={page_number}&sort=popularity'\n",
    "    response = requests.get(search_url, headers=headers)\n",
    "\n",
    "    return response"
   ]
  },
  {
   "cell_type": "code",
   "execution_count": null,
   "metadata": {},
   "outputs": [],
   "source": [
    "jay_z_dict = {}\n",
    "beyonce_dict = {}\n",
    "artist_dict = {2 : jay_z_dict, 498 : beyonce_dict}\n",
    "        \n",
    "for artist_id, artist_dict in artist_dict.items():      \n",
    "\n",
    "    for page in range (1, 20):\n",
    "        response = request_song_info(artist_id, page)\n",
    "        json = response.json()\n",
    "        remote_song_info = None\n",
    "\n",
    "        for song in json['response']['songs']:\n",
    "            if str(artist_id) in str(song['primary_artist']['id']):\n",
    "                remote_song_info = hit\n",
    "\n",
    "                if remote_song_info:\n",
    "                    song_url = remote_song_info['url']\n",
    "\n",
    "                if len(artist_dict) == 300:\n",
    "                    break\n",
    "\n",
    "                else:\n",
    "                    artist_dict.update({song['title'].lower() : song_url})"
   ]
  },
  {
   "cell_type": "code",
   "execution_count": null,
   "metadata": {},
   "outputs": [],
   "source": [
    "print(f'the jay_z_dict contains {len(jay_z_dict)} songs.')\n",
    "print(f'the beyonce_dict contains {len(beyonce_dict)} songs.')"
   ]
  },
  {
   "cell_type": "code",
   "execution_count": null,
   "metadata": {},
   "outputs": [],
   "source": [
    "def scrap_song_url(url, date_index):\n",
    "    page = requests.get(url)\n",
    "    html = BeautifulSoup(page.text, 'html.parser')\n",
    "    release_date = dt.datetime.strptime(html.find_all('span', {'class': 'metadata_unit-info metadata_unit-info--text_only'})[date_index].get_text(), '%B %d, %Y').strftime('%Y%m%d')\n",
    "    lyrics = html.find('div', class_='lyrics').get_text()\n",
    "\n",
    "    return release_date, lyrics"
   ]
  },
  {
   "cell_type": "code",
   "execution_count": null,
   "metadata": {},
   "outputs": [],
   "source": [
    "relationship_start = scrap_song_url(jay_z_dict[\"'03 bonnie & clyde\"], 1)[0]\n",
    "print(relationship_start)"
   ]
  },
  {
   "cell_type": "code",
   "execution_count": null,
   "metadata": {},
   "outputs": [],
   "source": [
    "for song, url in jay_z_dict.items():\n",
    "    try:\n",
    "        if int(scrap_song_url(url, 1)[0]) > int(relationship_start):\n",
    "            print(song)\n",
    "    except:\n",
    "        try:\n",
    "            if int(scrap_song_url(url, 0)[0]) > int(relationship_start):\n",
    "                print(song)\n",
    "        except:\n",
    "            print(f'FAILED on {song}')"
   ]
  }
 ],
 "metadata": {
  "kernelspec": {
   "display_name": "Python 3",
   "language": "python",
   "name": "python3"
  },
  "language_info": {
   "codemirror_mode": {
    "name": "ipython",
    "version": 3
   },
   "file_extension": ".py",
   "mimetype": "text/x-python",
   "name": "python",
   "nbconvert_exporter": "python",
   "pygments_lexer": "ipython3",
   "version": "3.7.0"
  }
 },
 "nbformat": 4,
 "nbformat_minor": 2
}
