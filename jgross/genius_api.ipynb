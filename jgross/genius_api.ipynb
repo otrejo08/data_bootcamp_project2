{
 "cells": [
  {
   "cell_type": "code",
   "execution_count": 1,
   "metadata": {},
   "outputs": [],
   "source": [
    "import pandas as pd\n",
    "import numpy as np\n",
    "import requests\n",
    "from pprint import pprint\n",
    "from bs4 import BeautifulSoup\n",
    "import datetime as dt\n",
    "\n",
    "from api_keys import api_key"
   ]
  },
  {
   "cell_type": "code",
   "execution_count": 2,
   "metadata": {},
   "outputs": [],
   "source": [
    "def request_song_info(artist_id):\n",
    "    base_url = f'https://api.genius.com'\n",
    "    headers = {f'Authorization': f'Bearer {api_key}'}\n",
    "    search_url = f'{base_url}/artists/{artist_id}/songs'\n",
    "    response = requests.get(search_url, headers=headers)\n",
    "\n",
    "    return response"
   ]
  },
  {
   "cell_type": "code",
   "execution_count": 3,
   "metadata": {},
   "outputs": [
    {
     "name": "stdout",
     "output_type": "stream",
     "text": [
      "'03 bonnie & clyde\n",
      "100$ bill\n",
      "11 minute freestyle on hot 97\n",
      "1-900-hustler\n",
      "1999 westwood freestyle\n",
      "2000 tim westwood freestyle\n",
      "2002 funk flex freestyle\n",
      "20 bag shorty\n",
      "20 questions for jay-z\n",
      "22 days challenge\n",
      "22 two's\n",
      "2 many hoes\n",
      "30 something\n"
     ]
    }
   ],
   "source": [
    "artist_id = 2\n",
    "jay_z_dict = {}\n",
    "\n",
    "response = request_song_info(artist_id)\n",
    "json = response.json()\n",
    "remote_song_info = None\n",
    "\n",
    "for hit in json['response']['songs']:\n",
    "    if str(artist_id) in str(hit['primary_artist']['id']):\n",
    "        remote_song_info = hit\n",
    "        print(hit['title'].lower())\n",
    "        if remote_song_info:\n",
    "            song_url = remote_song_info['url']\n",
    "            jay_z_dict.update({hit['title'].lower() : song_url})\n",
    "    if len(jay_z_dict) == 25:\n",
    "        break"
   ]
  },
  {
   "cell_type": "code",
   "execution_count": 4,
   "metadata": {},
   "outputs": [],
   "source": [
    "# pprint(json)"
   ]
  },
  {
   "cell_type": "code",
   "execution_count": 5,
   "metadata": {},
   "outputs": [
    {
     "name": "stdout",
     "output_type": "stream",
     "text": [
      "{\"'03 bonnie & clyde\": 'https://genius.com/Jay-z-03-bonnie-and-clyde-lyrics', '100$ bill': 'https://genius.com/Jay-z-100-bill-lyrics', '11 minute freestyle on hot 97': 'https://genius.com/Cassidy-11-minute-freestyle-on-hot-97-lyrics', '1-900-hustler': 'https://genius.com/Jay-z-1-900-hustler-lyrics', '1999 westwood freestyle': 'https://genius.com/Jay-z-1999-westwood-freestyle-lyrics', '2000 tim westwood freestyle': 'https://genius.com/Jay-z-2000-tim-westwood-freestyle-lyrics', '2002 funk flex freestyle': 'https://genius.com/Jay-z-2002-funk-flex-freestyle-lyrics', '20 bag shorty': 'https://genius.com/Jay-z-20-bag-shorty-lyrics', '20 questions for jay-z': 'https://genius.com/John-paul-davis-20-questions-for-jay-z-annotated', '22 days challenge': 'https://genius.com/Jay-z-22-days-challenge-annotated', \"22 two's\": 'https://genius.com/Jay-z-22-twos-lyrics', '2 many hoes': 'https://genius.com/Jay-z-2-many-hoes-lyrics', '30 something': 'https://genius.com/Jay-z-30-something-lyrics'}\n",
      "13\n"
     ]
    }
   ],
   "source": [
    "print(jay_z_dict)\n",
    "print(len(jay_z_dict))"
   ]
  },
  {
   "cell_type": "code",
   "execution_count": 6,
   "metadata": {},
   "outputs": [],
   "source": [
    "def scrap_song_url(url):\n",
    "    page = requests.get(url)\n",
    "    html = BeautifulSoup(page.text, 'html.parser')\n",
    "    release_date = dt.datetime.strptime(html.find_all('span', {'class': 'metadata_unit-info metadata_unit-info--text_only'})[1].get_text(), '%B %d, %Y').strftime('%Y%m%d')\n",
    "    lyrics = html.find('div', class_='lyrics').get_text()\n",
    "\n",
    "    return release_date, lyrics"
   ]
  },
  {
   "cell_type": "code",
   "execution_count": 7,
   "metadata": {},
   "outputs": [
    {
     "name": "stdout",
     "output_type": "stream",
     "text": [
      "('20061121',\n",
      " '\\n'\n",
      " '\\n'\n",
      " '[Intro]\\n'\n",
      " \"You ain't got enough stamps in ya passport\\n\"\n",
      " 'To fuck with Young H-O (heheheh)\\n'\n",
      " 'International, uhh\\n'\n",
      " 'Show young boys how to do this thing\\n'\n",
      " 'The maturation of Jay-Zeezy, heh\\n'\n",
      " 'Check me out\\n'\n",
      " '\\n'\n",
      " '[Verse 1]\\n'\n",
      " \"30's the new 20 nigga I'm so hot still (uhh)\\n\"\n",
      " 'Better broad, better automobile (uhh)\\n'\n",
      " 'Bet a yard (naw!) bet a hundred mil\\n'\n",
      " \"That by the song's end I'll probably start another trend\\n\"\n",
      " \"I know everything you wan' do\\n\"\n",
      " 'I did all that by the age of 21\\n'\n",
      " \"By 22, I had that brand new Ac' coupe\\n\"\n",
      " 'I guess you could say that my legend just begun\\n'\n",
      " \"I'm, young enough to know the right car to buy\\n\"\n",
      " 'Yet grown enough not to put rims on it\\n'\n",
      " \"I got that six-deuce with curtains so you can't see me\\n\"\n",
      " \"And I didn't even have to put tints on it\\n\"\n",
      " \"I don't got the bright watch, I got the right watch\\n\"\n",
      " \"I don't buy out the bar, I bought the nightspot\\n\"\n",
      " 'I got the right stock\\n'\n",
      " \"I, got, stockbrokers that's movin' it like white tops\\n\"\n",
      " 'I know you\\'re like \"Fuck! This is child abuse, call DYFS!\"\\n'\n",
      " 'I must just be getting nicer\\n'\n",
      " \"You young boys ain't ready for real\\n\"\n",
      " \"30's the new 20 nigga, I'm so hot still\\n\"\n",
      " '\\n'\n",
      " '[Hook]\\n'\n",
      " \"I used to let my pants sag, not givin' a fuck\\n\"\n",
      " \"Baby boy, now I'm all grown up\\n\"\n",
      " 'I used to cruise the used car lot, put chrome on the truck\\n'\n",
      " \"Baby boy, now I'm all grown up\\n\"\n",
      " 'I used to play the block like that (like that)\\n'\n",
      " 'I used to carry knots like that (like that)\\n'\n",
      " 'Now I got black cards, good credit and such\\n'\n",
      " \"Baby boy cause I'm all grown up, taha!\\n\"\n",
      " '\\n'\n",
      " '[Verse 2]\\n'\n",
      " \"30's the new 20 nigga, I'm on fire still\\n\"\n",
      " 'These young boys is like fire drills (uhh)\\n'\n",
      " 'False alarms (uhh) the next don (naw)\\n'\n",
      " \"He ain't got it (uhh) on to the next one (Young)\\n\"\n",
      " \"I'm still here (yeah) still here like Mike\\n\"\n",
      " \"Gotta stop playin' with these children (chea)\\n\"\n",
      " \"I'm a bully with the bucks (boots)\\n\"\n",
      " \"Don't let the patent leather shoes fool you youngin'\\n\"\n",
      " 'I got the fully in the tux\\n'\n",
      " \"That was my past, now I'm so grown up\\n\"\n",
      " \"I don't got one gun on me\\n\"\n",
      " 'Gotta a sum on me to hire a gun army, get ya spun like laundry\\n'\n",
      " \"And I'll be somewhere under palm trees, calmly listenin' to R&B\\n\"\n",
      " \"When we get the call he's, no longer with us, fire ya babysitters\\n\"\n",
      " 'You little fucks fall back for real\\n'\n",
      " \"30's the new 20 nigga, I'm so hot still\\n\"\n",
      " '\\n'\n",
      " '[Hook]\\n'\n",
      " \"I used to let my pants sag, not givin' a fuck\\n\"\n",
      " \"Baby boy, now I'm all grown up\\n\"\n",
      " 'I used to cruise the used car lot, put chrome on the truck\\n'\n",
      " \"Baby boy, now I'm all grown up\\n\"\n",
      " 'I used to wear my hoodie like that (like that)\\n'\n",
      " 'Five deep in a hooptie like that (like that)\\n'\n",
      " 'Now I got black cards, good credit and such\\n'\n",
      " \"Baby boy cause I'm all grown up, heheheh\\n\"\n",
      " '\\n'\n",
      " '[Verse 3]\\n'\n",
      " \"Y'all roll blunts, I smoke Cubans all day\\n\"\n",
      " \"Y'all youngins chase, I'm Patronin' it straight\\n\"\n",
      " \"I like South Beach but I'm in St. Tropez\\n\"\n",
      " \"Y'all drink Dom but not Rosé (hey)\\n\"\n",
      " 'Ya chick shop at the mall\\n'\n",
      " \"My chick burnin' down Bergdorf's\\n\"\n",
      " \"Comin' back with Birkin bags\\n\"\n",
      " 'Ya chick is like, \"What type of purse is that?\"\\n'\n",
      " \"I'm from the era where niggas don't snitch\\n\"\n",
      " \"You from the era where snitchin' is the shit\\n\"\n",
      " \"I'm afraid of the future (why?)\\n\"\n",
      " \"Y'all respect the one who got shot, I respect the shooter\\n\"\n",
      " \"Y'all go to parties to ice grill\\n\"\n",
      " 'I go to parties to party with nice girls\\n'\n",
      " 'Young boys gotta chill\\n'\n",
      " \"30's the new 20 nigga, I'm so hot still\\n\"\n",
      " '\\n'\n",
      " '[Hook]\\n'\n",
      " \"I used to let my pants sag, not givin' a fuck\\n\"\n",
      " \"Baby boy, now I'm all grown up\\n\"\n",
      " 'I used to cruise the used car lot, put chrome on the truck\\n'\n",
      " \"Baby boy, now I'm all grown up\\n\"\n",
      " 'Ya, we used to ball like that (like that)\\n'\n",
      " 'Now we own the ball team, holla back (holla back)\\n'\n",
      " 'Now I got black cards, good credit and such\\n'\n",
      " \"Baby boy cause I'm all grown up, taha!\\n\"\n",
      " '\\n')\n"
     ]
    }
   ],
   "source": [
    "pprint(scrap_song_url(song_url))"
   ]
  }
 ],
 "metadata": {
  "kernelspec": {
   "display_name": "Python 3",
   "language": "python",
   "name": "python3"
  },
  "language_info": {
   "codemirror_mode": {
    "name": "ipython",
    "version": 3
   },
   "file_extension": ".py",
   "mimetype": "text/x-python",
   "name": "python",
   "nbconvert_exporter": "python",
   "pygments_lexer": "ipython3",
   "version": "3.7.0"
  }
 },
 "nbformat": 4,
 "nbformat_minor": 2
}
