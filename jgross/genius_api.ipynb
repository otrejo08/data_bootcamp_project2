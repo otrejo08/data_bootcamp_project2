{
 "cells": [
  {
   "cell_type": "code",
   "execution_count": null,
   "metadata": {},
   "outputs": [],
   "source": [
    "import pandas as pd\n",
    "import numpy as np\n",
    "import requests\n",
    "from pprint import pprint\n",
    "from bs4 import BeautifulSoup\n",
    "import datetime as dt\n",
    "\n",
    "import re, string, unicodedata\n",
    "import nltk\n",
    "import contractions\n",
    "# from nltk import word_tokenize, sent_tokenize\n",
    "from nltk.corpus import stopwords\n",
    "\n",
    "# from nltk.stem import LancasterStemmer, WordNetLemmatizer\n",
    "\n",
    "from api_keys import api_key"
   ]
  },
  {
   "cell_type": "code",
   "execution_count": null,
   "metadata": {},
   "outputs": [],
   "source": [
    "def request_song_info(artist_id, page_number):\n",
    "    base_url = f'https://api.genius.com'\n",
    "    headers = {f'Authorization': f'Bearer {api_key}'}\n",
    "    search_url = f'{base_url}/artists/{artist_id}/songs?per_page=40&page={page_number}&sort=popularity'\n",
    "    response = requests.get(search_url, headers=headers)\n",
    "\n",
    "    return response"
   ]
  },
  {
   "cell_type": "code",
   "execution_count": null,
   "metadata": {},
   "outputs": [],
   "source": [
    "jay_z_dict = {}\n",
    "beyonce_dict = {}\n",
    "artist_dict = {2 : jay_z_dict, 498 : beyonce_dict}\n",
    "        \n",
    "for artist_id, artist_dict in artist_dict.items():      \n",
    "\n",
    "    for page in range (1, 20):\n",
    "        response = request_song_info(artist_id, page)\n",
    "        json = response.json()\n",
    "        remote_song_info = None\n",
    "\n",
    "        for song in json['response']['songs']:\n",
    "            if str(artist_id) in str(song['primary_artist']['id']):\n",
    "                remote_song_info = song\n",
    "\n",
    "                if remote_song_info:\n",
    "                    song_url = remote_song_info['url']\n",
    "\n",
    "                if len(artist_dict) == 300:\n",
    "                    break\n",
    "\n",
    "                else:\n",
    "                    artist_dict.update({song['title'].lower() : song_url})"
   ]
  },
  {
   "cell_type": "code",
   "execution_count": null,
   "metadata": {},
   "outputs": [],
   "source": [
    "print(f'the jay_z_dict contains {len(jay_z_dict)} songs.')\n",
    "print(f'the beyonce_dict contains {len(beyonce_dict)} songs.')"
   ]
  },
  {
   "cell_type": "code",
   "execution_count": null,
   "metadata": {},
   "outputs": [],
   "source": [
    "def scrap_song_url(song_url, date_index):\n",
    "    page = requests.get(song_url)\n",
    "    html = BeautifulSoup(page.text, 'html.parser')\n",
    "    release_date = dt.datetime.strptime(html.find_all('span', {'class': 'metadata_unit-info metadata_unit-info--text_only'})[date_index].get_text(), '%B %d, %Y').strftime('%Y%m%d')\n",
    "    lyrics = html.find('div', class_='lyrics').get_text()\n",
    "\n",
    "    return release_date, lyrics"
   ]
  },
  {
   "cell_type": "code",
   "execution_count": null,
   "metadata": {},
   "outputs": [],
   "source": [
    "relationship_start = scrap_song_url(jay_z_dict[\"'03 bonnie & clyde\"], 1)[0]\n",
    "print(int(relationship_start))"
   ]
  },
  {
   "cell_type": "code",
   "execution_count": null,
   "metadata": {},
   "outputs": [],
   "source": [
    "pre_jay_z_dict = {}\n",
    "post_jay_z_dict = {}\n",
    "\n",
    "for song, song_url in jay_z_dict.items():\n",
    "    try:\n",
    "        if int(scrap_song_url(song_url, 1)[0]) >= int(relationship_start):\n",
    "            if len(post_jay_z_dict) == 50:\n",
    "                continue\n",
    "            else:\n",
    "                post_jay_z_dict.update({song : scrap_song_url(song_url, 1)[1]})\n",
    "        else:\n",
    "            if len(pre_jay_z_dict) == 50:\n",
    "                continue\n",
    "            else:\n",
    "                pre_jay_z_dict.update({song : scrap_song_url(song_url, 1)[1]})\n",
    "\n",
    "    except:\n",
    "        try:\n",
    "            if int(scrap_song_url(song_url, 0)[0]) >= int(relationship_start):\n",
    "                if len(post_jay_z_dict) == 50:\n",
    "                    continue\n",
    "                else:\n",
    "                    post_jay_z_dict.update({song : scrap_song_url(song_url, 0)[1]})\n",
    "            else:\n",
    "                if len(pre_jay_z_dict) == 50:\n",
    "                    continue\n",
    "                else:\n",
    "                    pre_jay_z_dict.update({song : scrap_song_url(song_url, 0)[1]})                \n",
    "                \n",
    "        except:\n",
    "            print(f'FAILED on {song}')"
   ]
  },
  {
   "cell_type": "code",
   "execution_count": null,
   "metadata": {},
   "outputs": [],
   "source": [
    "print(len(pre_jay_z_dict))\n",
    "print(len(post_jay_z_dict))"
   ]
  },
  {
   "cell_type": "code",
   "execution_count": null,
   "metadata": {},
   "outputs": [],
   "source": [
    "pre_beyonce_dict = {}\n",
    "post_beyonce_dict = {}\n",
    "\n",
    "for song, song_url in beyonce_dict.items():\n",
    "    try:\n",
    "        if int(scrap_song_url(song_url, 1)[0]) >= int(relationship_start):\n",
    "            if len(post_beyonce_dict) == 50:\n",
    "                continue\n",
    "            else:\n",
    "                post_beyonce_dict.update({song : scrap_song_url(song_url, 1)[1]})\n",
    "        else:\n",
    "            if len(pre_beyonce_dict) == 50:\n",
    "                continue\n",
    "            else:\n",
    "                pre_beyonce_dict.update({song : scrap_song_url(song_url, 1)[1]})\n",
    "\n",
    "    except:\n",
    "        try:\n",
    "            if int(scrap_song_url(song_url, 0)[0]) >= int(relationship_start):\n",
    "                if len(post_beyonce_dict) == 50:\n",
    "                    continue\n",
    "                else:\n",
    "                    post_beyonce_dict.update({song : scrap_song_url(song_url, 0)[1]})\n",
    "            else:\n",
    "                if len(pre_beyonce_dict) == 50:\n",
    "                    continue\n",
    "                else:\n",
    "                    pre_beyonce_dict.update({song : scrap_song_url(song_url, 0)[1]})                \n",
    "                \n",
    "        except:\n",
    "            print(f'FAILED on {song}')"
   ]
  },
  {
   "cell_type": "code",
   "execution_count": null,
   "metadata": {},
   "outputs": [],
   "source": [
    "print(len(pre_beyonce_dict))\n",
    "print(len(post_beyonce_dict))"
   ]
  },
  {
   "cell_type": "code",
   "execution_count": null,
   "metadata": {},
   "outputs": [],
   "source": [
    "pre_jay_z_df = pd.DataFrame.from_dict(pre_jay_z_dict, orient = 'index', columns = ['pre_text'])\n",
    "post_jay_z_df = pd.DataFrame.from_dict(post_jay_z_dict, orient = 'index', columns = ['post_text'])\n",
    "pre_beyonce_df = pd.DataFrame.from_dict(pre_beyonce_dict, orient = 'index', columns = ['pre_text'])\n",
    "post_beyonce_df = pd.DataFrame.from_dict(pre_beyonce_dict, orient = 'index', columns = ['post_text'])"
   ]
  },
  {
   "cell_type": "code",
   "execution_count": null,
   "metadata": {},
   "outputs": [],
   "source": [
    "stop = stopwords.words('english')\n",
    "\n",
    "def clean_text(artist_df):\n",
    "    artist_df = artist_df.apply(lambda x: x.replace('\\n', ' '))\n",
    "    artist_df = artist_df.apply(lambda x: re.sub('\\[[^]]*\\]', '', x))\n",
    "    artist_df = artist_df.apply(lambda x: x.lower())\n",
    "    artist_df = artist_df.apply(lambda x: contractions.fix(x))\n",
    "    artist_df = artist_df.apply(lambda x: re.sub(r'[^\\w\\s]','', x))\n",
    "    artist_df = artist_df.apply(lambda x: [item for item in x.split() if item not in stop])\n",
    "    return artist_df"
   ]
  },
  {
   "cell_type": "code",
   "execution_count": null,
   "metadata": {},
   "outputs": [],
   "source": [
    "pre_jay_z_df.pre_text = clean_text(pre_jay_z_df.pre_text)\n",
    "post_jay_z_df.post_text = clean_text(post_jay_z_df.post_text)\n",
    "pre_beyonce_df.pre_text = clean_text(pre_beyonce_df.pre_text)\n",
    "post_beyonce_df.post_text = clean_text(post_beyonce_df.post_text)"
   ]
  },
  {
   "cell_type": "code",
   "execution_count": null,
   "metadata": {},
   "outputs": [],
   "source": [
    "post_beyonce_df.head()"
   ]
  },
  {
   "cell_type": "code",
   "execution_count": null,
   "metadata": {},
   "outputs": [],
   "source": [
    "# pre_jay_z_df.pre_text = pre_jay_z_df.pre_text.apply(lambda x: nltk.word_tokenize(x))"
   ]
  },
  {
   "cell_type": "code",
   "execution_count": null,
   "metadata": {},
   "outputs": [],
   "source": [
    "pre_jay_z_df.to_csv('test.csv')"
   ]
  }
 ],
 "metadata": {
  "kernelspec": {
   "display_name": "Python 3",
   "language": "python",
   "name": "python3"
  },
  "language_info": {
   "codemirror_mode": {
    "name": "ipython",
    "version": 3
   },
   "file_extension": ".py",
   "mimetype": "text/x-python",
   "name": "python",
   "nbconvert_exporter": "python",
   "pygments_lexer": "ipython3",
   "version": "3.7.0"
  }
 },
 "nbformat": 4,
 "nbformat_minor": 2
}
